{
 "cells": [
  {
   "cell_type": "markdown",
   "id": "706dfa7c-3018-426f-9a83-de7822cc91af",
   "metadata": {},
   "source": [
    "# Advent of Code 2024 - Day 5, Part 1 (Print Queue)"
   ]
  },
  {
   "cell_type": "code",
   "execution_count": 1,
   "id": "19c05a78-61b2-439c-b0de-42d7452e5921",
   "metadata": {},
   "outputs": [],
   "source": [
    "import csv\n",
    "import numpy as np"
   ]
  },
  {
   "cell_type": "markdown",
   "id": "31ad3cea-b48a-47bc-a567-2f654b4d667f",
   "metadata": {},
   "source": [
    "## Get Rules & Updates"
   ]
  },
  {
   "cell_type": "code",
   "execution_count": 2,
   "id": "0591cd47-0238-4d51-ab8b-2f159ee08717",
   "metadata": {
    "scrolled": true
   },
   "outputs": [
    {
     "name": "stdout",
     "output_type": "stream",
     "text": [
      "[(73, 89), (78, 59), (78, 71), (32, 66), (32, 12), (32, 58), (13, 29), (13, 46), (13, 66), (13, 61), (66, 25), (66, 11), (66, 37), (66, 71), (66, 34), (67, 29), (67, 58), (67, 32), (67, 24), (67, 85), (67, 75), (29, 87), (29, 25), (29, 16), (29, 35)] \n",
      "\n",
      "\n",
      "[[18, 46, 96, 13, 27, 49, 35, 28, 75, 12, 25, 81, 24, 16, 39, 34, 67], [75, 58, 64, 12, 65, 48, 42, 45, 61, 29, 78, 73, 66, 98, 55, 83, 87, 51, 53, 11, 59, 33, 94], [27, 18, 64, 12, 65, 61, 73, 98, 19, 87, 53], [98, 71, 47, 28, 33, 37, 25, 34, 87, 66, 11, 53, 52, 79, 83, 19, 51, 16, 59], [98, 19, 83, 51, 53, 89, 52, 37, 67]]\n"
     ]
    }
   ],
   "source": [
    "Rule: dict\n",
    "rules: list = []\n",
    "updates = []\n",
    "\n",
    "with open('data/safety.txt') as file:\n",
    "    reader = csv.reader(file)\n",
    "    rules.extend([\n",
    "    {\"rule\": tuple(map(int, \"\".join(row).split(\"|\"))), \"followed\": False}\n",
    "        for row in reader if len(row) > 0 and \"|\" in row[0]\n",
    "    ])\n",
    "\n",
    "    file.seek(0)\n",
    "    updates.extend([list(map(int, row)) for row in reader if len(row) > 1])\n",
    "\n",
    "print([rule[\"rule\"] for rule in rules[:25]], \"\\n\" * 2)\n",
    "print(updates[:5])"
   ]
  },
  {
   "cell_type": "markdown",
   "id": "0a63b09a-d06e-4125-bff1-4206693de30a",
   "metadata": {},
   "source": [
    "## Safety Test"
   ]
  },
  {
   "cell_type": "code",
   "execution_count": 3,
   "id": "39fd3169-fed9-4b79-94f6-23c44f74fdb9",
   "metadata": {},
   "outputs": [],
   "source": [
    "def is_broken(update, rule):\n",
    "    update = np.array(update) if isinstance(update, list) else update\n",
    "    r0_idx, r1_idx = get_indices(update, rule)\n",
    "\n",
    "    if r0_idx is None or r1_idx is None:\n",
    "        return False\n",
    "    return r0_idx > r1_idx"
   ]
  },
  {
   "cell_type": "markdown",
   "id": "fcfbc313-4249-47ef-80a4-4b681473c90f",
   "metadata": {},
   "source": [
    "## Loop Through Updates / Check Rules"
   ]
  },
  {
   "cell_type": "code",
   "execution_count": 4,
   "id": "ebd2bf42-39e5-4c0d-907a-01a0a81e4286",
   "metadata": {},
   "outputs": [],
   "source": [
    "def get_indices(update, rule):\n",
    "    return (\n",
    "        next(iter(np.where(np.atleast_1d(update) == int(rule[0]))[0]), None),\n",
    "        next(iter(np.where(np.atleast_1d(update) == int(rule[1]))[0]), None),\n",
    "    )\n"
   ]
  },
  {
   "cell_type": "code",
   "execution_count": 5,
   "id": "1d1e418a-cabe-4ed4-adf3-e19855d97fd0",
   "metadata": {},
   "outputs": [],
   "source": [
    "def rule_in_update(update, rule):\n",
    "    return all([rule[0] in update, rule[1] in update])"
   ]
  },
  {
   "cell_type": "code",
   "execution_count": 13,
   "id": "439564de-4c1a-4389-82ce-147328b4854e",
   "metadata": {
    "scrolled": true
   },
   "outputs": [
    {
     "name": "stdout",
     "output_type": "stream",
     "text": [
      "Safe   / Total ==> 105 / 194\n",
      "Unsafe / Total ==>  89 / 194\n"
     ]
    },
    {
     "data": {
      "text/plain": [
       "5452"
      ]
     },
     "execution_count": 13,
     "metadata": {},
     "output_type": "execute_result"
    }
   ],
   "source": [
    "def classify_updates(updates):\n",
    "    updates = updates.tolist() if isinstance(updates, np.ndarray) else updates\n",
    "    safe_updates = []\n",
    "    unsafe_updates = []\n",
    "    med_sum = 0\n",
    "\n",
    "    for update in updates:\n",
    "        broken = False\n",
    "        for rule in rules:\n",
    "            if rule_in_update(update, rule[\"rule\"]):\n",
    "                broken = is_broken(update, rule[\"rule\"])\n",
    "                unsafe_updates.append(update) if broken else None\n",
    "                if broken:\n",
    "                    break\n",
    "        if not broken:\n",
    "            safe_updates.append(update)\n",
    "            med_sum += update[len(update) // 2]\n",
    "        \n",
    "    print(f\"Safe   / Total ==> {len(safe_updates)} / {len(updates)}\")\n",
    "    print(f\"Unsafe / Total ==>  {len(unsafe_updates)} / {len(updates)}\")\n",
    "\n",
    "    return ((safe_updates, unsafe_updates), med_sum)\n",
    "\n",
    "((safe_arrs, unsafe_arrs), median_sum) = classify_updates(updates)\n",
    "median_sum"
   ]
  },
  {
   "cell_type": "markdown",
   "id": "5b48df9f-d331-4746-a0d9-f35f313521d7",
   "metadata": {},
   "source": [
    "# Part 2 - Sort Unsorted Updates"
   ]
  },
  {
   "cell_type": "code",
   "execution_count": 94,
   "id": "ddec3ffb-cff4-4a3f-a19e-885b59a00484",
   "metadata": {
    "scrolled": true
   },
   "outputs": [
    {
     "ename": "KeyError",
     "evalue": "0",
     "output_type": "error",
     "traceback": [
      "\u001b[0;31m---------------------------------------------------------------------------\u001b[0m",
      "\u001b[0;31mKeyError\u001b[0m                                  Traceback (most recent call last)",
      "Cell \u001b[0;32mIn[94], line 8\u001b[0m\n\u001b[1;32m      6\u001b[0m rules_to_check \u001b[38;5;241m=\u001b[39m rules\u001b[38;5;241m.\u001b[39mcopy()\n\u001b[1;32m      7\u001b[0m \u001b[38;5;28;01mfor\u001b[39;00m rule \u001b[38;5;129;01min\u001b[39;00m rules_to_check:\n\u001b[0;32m----> 8\u001b[0m     \u001b[38;5;28;01mif\u001b[39;00m rule_in_update(update, rule[\u001b[38;5;124m\"\u001b[39m\u001b[38;5;124mrule\u001b[39m\u001b[38;5;124m\"\u001b[39m]) \u001b[38;5;129;01mand\u001b[39;00m \u001b[43mis_broken\u001b[49m\u001b[43m(\u001b[49m\u001b[43mupdate\u001b[49m\u001b[43m,\u001b[49m\u001b[43m \u001b[49m\u001b[43mrule\u001b[49m\u001b[43m)\u001b[49m:\n\u001b[1;32m      9\u001b[0m         \u001b[38;5;28mprint\u001b[39m(update, rule)\n\u001b[1;32m     10\u001b[0m         i, j \u001b[38;5;241m=\u001b[39m get_indices(update, rule[\u001b[38;5;124m\"\u001b[39m\u001b[38;5;124mrule\u001b[39m\u001b[38;5;124m\"\u001b[39m])\n",
      "Cell \u001b[0;32mIn[82], line 3\u001b[0m, in \u001b[0;36mis_broken\u001b[0;34m(update, rule)\u001b[0m\n\u001b[1;32m      1\u001b[0m \u001b[38;5;28;01mdef\u001b[39;00m \u001b[38;5;21mis_broken\u001b[39m(update, rule):\n\u001b[1;32m      2\u001b[0m     update \u001b[38;5;241m=\u001b[39m np\u001b[38;5;241m.\u001b[39marray(update) \u001b[38;5;28;01mif\u001b[39;00m \u001b[38;5;28misinstance\u001b[39m(update, \u001b[38;5;28mlist\u001b[39m) \u001b[38;5;28;01melse\u001b[39;00m update\n\u001b[0;32m----> 3\u001b[0m     r0_idx, r1_idx \u001b[38;5;241m=\u001b[39m \u001b[43mget_indices\u001b[49m\u001b[43m(\u001b[49m\u001b[43mupdate\u001b[49m\u001b[43m,\u001b[49m\u001b[43m \u001b[49m\u001b[43mrule\u001b[49m\u001b[43m)\u001b[49m\n\u001b[1;32m      5\u001b[0m     \u001b[38;5;28;01mif\u001b[39;00m r0_idx \u001b[38;5;129;01mis\u001b[39;00m \u001b[38;5;28;01mNone\u001b[39;00m \u001b[38;5;129;01mor\u001b[39;00m r1_idx \u001b[38;5;129;01mis\u001b[39;00m \u001b[38;5;28;01mNone\u001b[39;00m:\n\u001b[1;32m      6\u001b[0m         \u001b[38;5;28;01mreturn\u001b[39;00m \u001b[38;5;28;01mFalse\u001b[39;00m\n",
      "Cell \u001b[0;32mIn[83], line 3\u001b[0m, in \u001b[0;36mget_indices\u001b[0;34m(update, rule)\u001b[0m\n\u001b[1;32m      1\u001b[0m \u001b[38;5;28;01mdef\u001b[39;00m \u001b[38;5;21mget_indices\u001b[39m(update, rule):\n\u001b[1;32m      2\u001b[0m     \u001b[38;5;28;01mreturn\u001b[39;00m (\n\u001b[0;32m----> 3\u001b[0m         \u001b[38;5;28mnext\u001b[39m(\u001b[38;5;28miter\u001b[39m(np\u001b[38;5;241m.\u001b[39mwhere(np\u001b[38;5;241m.\u001b[39matleast_1d(update) \u001b[38;5;241m==\u001b[39m \u001b[38;5;28mint\u001b[39m(\u001b[43mrule\u001b[49m\u001b[43m[\u001b[49m\u001b[38;5;241;43m0\u001b[39;49m\u001b[43m]\u001b[49m))[\u001b[38;5;241m0\u001b[39m]), \u001b[38;5;28;01mNone\u001b[39;00m),\n\u001b[1;32m      4\u001b[0m         \u001b[38;5;28mnext\u001b[39m(\u001b[38;5;28miter\u001b[39m(np\u001b[38;5;241m.\u001b[39mwhere(np\u001b[38;5;241m.\u001b[39matleast_1d(update) \u001b[38;5;241m==\u001b[39m \u001b[38;5;28mint\u001b[39m(rule[\u001b[38;5;241m1\u001b[39m]))[\u001b[38;5;241m0\u001b[39m]), \u001b[38;5;28;01mNone\u001b[39;00m),\n\u001b[1;32m      5\u001b[0m     )\n",
      "\u001b[0;31mKeyError\u001b[0m: 0"
     ]
    }
   ],
   "source": [
    "# Make ideal list of rules and then refer to ideal list\n",
    "\n",
    "for index, update in enumerate(unsafe_arr[:1]):\n",
    "    is_safe = False\n",
    "    for _ in range(20): # is_safe:\n",
    "        rules_to_check = rules.copy()\n",
    "        for rule in rules_to_check:\n",
    "            if rule_in_update(update, rule[\"rule\"]) and is_broken(update, rule):\n",
    "                print(update, rule)\n",
    "                i, j = get_indices(update, rule[\"rule\"])\n",
    "                update[i], update[j] = update[j], update[i]\n",
    "            else:\n",
    "                rule[\"followed\"] = True\n",
    "\n",
    "        if all([followed for _, followed in rules_to_check]):\n",
    "            safe_arr.append(update)\n",
    "            is_safe = True\n",
    "\n",
    "        \n",
    "\n",
    "    print(f\"Safe / Total ==> {len(safe_arr)} / {len(updates)}\")\n"
   ]
  },
  {
   "cell_type": "markdown",
   "id": "bed47200-8314-488e-95d7-8ffdcc998a23",
   "metadata": {},
   "source": [
    "## Write Answer to File"
   ]
  },
  {
   "cell_type": "code",
   "execution_count": 14,
   "id": "1950323f-2149-4215-96e6-a3c63d66fe74",
   "metadata": {},
   "outputs": [],
   "source": [
    "with open(\"answer.txt\", \"w\") as file:\n",
    "    file.write(str(med_sum))"
   ]
  }
 ],
 "metadata": {
  "kernelspec": {
   "display_name": "advent of python",
   "language": "python",
   "name": "advent"
  },
  "language_info": {
   "codemirror_mode": {
    "name": "ipython",
    "version": 3
   },
   "file_extension": ".py",
   "mimetype": "text/x-python",
   "name": "python",
   "nbconvert_exporter": "python",
   "pygments_lexer": "ipython3",
   "version": "3.11.10"
  }
 },
 "nbformat": 4,
 "nbformat_minor": 5
}
