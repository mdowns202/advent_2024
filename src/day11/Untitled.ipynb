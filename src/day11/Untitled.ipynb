{
 "cells": [
  {
   "cell_type": "code",
   "execution_count": 3,
   "id": "f682faaf-cbef-4ec3-aef0-06f71e8701a5",
   "metadata": {},
   "outputs": [],
   "source": [
    "import csv\n",
    "from dataclasses import dataclass, field"
   ]
  },
  {
   "cell_type": "code",
   "execution_count": 4,
   "id": "493e1c9f-1d42-4db2-bffd-25ee41f339d0",
   "metadata": {},
   "outputs": [],
   "source": [
    "def blink(stones, n):\n",
    "    stones = [int(s) for s in stones]\n",
    "    for _ in range(n):\n",
    "        new_stones = []\n",
    "        for stone in stones:\n",
    "            if stone == 0:\n",
    "                new_stones.append(1)\n",
    "            elif len(str(stone)) % 2 == 0:\n",
    "                half_len = len(str(stone)) // 2\n",
    "                pebble_1 = stone // 10**half_len\n",
    "                pebble_2 = stone % 10**half_len\n",
    "                new_stones.append(pebble_1)\n",
    "                new_stones.append(pebble_2)\n",
    "            else:\n",
    "                new_stones.append(stone * 2024)\n",
    "        stones = new_stones\n",
    "        yield len(stones)"
   ]
  },
  {
   "cell_type": "markdown",
   "id": "0fdb1de5-5df4-4970-9364-cd8b2e6bcad6",
   "metadata": {},
   "source": [
    "- If stone == 0 => 1\n",
    "- If stone % 2 == 0 => split in 2\n",
    "- Else => stone * 2024"
   ]
  },
  {
   "cell_type": "code",
   "execution_count": 5,
   "id": "c6858db1-5341-4fba-b4c2-f45c473b64ab",
   "metadata": {},
   "outputs": [
    {
     "data": {
      "text/plain": [
       "55312"
      ]
     },
     "execution_count": 5,
     "metadata": {},
     "output_type": "execute_result"
    }
   ],
   "source": [
    "with open(\"data/test.txt\", \"r\") as file:\n",
    "    stones = [num for row in csv.reader(file, delimiter=\" \") for num in row]\n",
    "\n",
    "magnitude = list(blink(stones, 25))[-1:][0]\n",
    "magnitude"
   ]
  },
  {
   "cell_type": "markdown",
   "id": "446be111-a933-421b-bfd0-3e4b9fb9a1a0",
   "metadata": {},
   "source": [
    "~~idea: figure out how many stones each stone will be after n runs and sum~~"
   ]
  },
  {
   "cell_type": "code",
   "execution_count": null,
   "id": "41fa5575-44de-43e4-9423-4708118f90a3",
   "metadata": {},
   "outputs": [],
   "source": [
    "# FIXME\n",
    "for stone in stones:\n",
    "    for i, s in enumerate(blink([stone], 25), 1):\n",
    "        print(s)"
   ]
  },
  {
   "cell_type": "code",
   "execution_count": 41,
   "id": "aacea14d-b1ee-46c1-95cf-9a0d26aa0155",
   "metadata": {},
   "outputs": [],
   "source": [
    "with open(\"answer.txt\", \"w\") as file:\n",
    "    file.writelines([str(magnitude)])"
   ]
  }
 ],
 "metadata": {
  "kernelspec": {
   "display_name": "advent of python",
   "language": "python",
   "name": "advent"
  },
  "language_info": {
   "codemirror_mode": {
    "name": "ipython",
    "version": 3
   },
   "file_extension": ".py",
   "mimetype": "text/x-python",
   "name": "python",
   "nbconvert_exporter": "python",
   "pygments_lexer": "ipython3",
   "version": "3.11.10"
  }
 },
 "nbformat": 4,
 "nbformat_minor": 5
}
