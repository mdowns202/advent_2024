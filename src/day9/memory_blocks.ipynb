{
 "cells": [
  {
   "cell_type": "markdown",
   "id": "273fbdda-1499-410d-a452-6a7d7fed4fd0",
   "metadata": {},
   "source": [
    "# Advent of Code 2024 Day 9 (Disk Fragmenter)"
   ]
  },
  {
   "cell_type": "markdown",
   "id": "e302cdd7-829c-42e8-a4a6-d641c2167c53",
   "metadata": {},
   "source": [
    "## Part 1"
   ]
  },
  {
   "cell_type": "code",
   "execution_count": 1,
   "id": "3f492c19-1fbe-42be-8710-762344c675b8",
   "metadata": {},
   "outputs": [],
   "source": [
    "from dataclasses import dataclass\n",
    "from itertools import zip_longest"
   ]
  },
  {
   "cell_type": "code",
   "execution_count": 15,
   "id": "60d4de58-3e31-4534-9a95-c28c89a5ce1d",
   "metadata": {},
   "outputs": [],
   "source": [
    "@dataclass(slots=True)\n",
    "class Block:\n",
    "    size: int\n",
    "\n",
    "@dataclass(slots=True)\n",
    "class FileBlock(Block):\n",
    "    id: int\n",
    "\n",
    "    def __str__(self):\n",
    "        return self.id * self.size\n",
    "\n",
    "@dataclass(slots=True)\n",
    "class FreeBlock(Block):\n",
    "    def __str__(self):\n",
    "        return \".\" * self.size\n",
    "\n",
    "def calc_checksum(parts):\n",
    "    return sum(i * int(part) for i, part in enumerate(parts) if part != '.')\n"
   ]
  },
  {
   "cell_type": "code",
   "execution_count": 3,
   "id": "5005d92c-2baa-415c-b0c7-bf51c1f15d54",
   "metadata": {},
   "outputs": [
    {
     "name": "stdout",
     "output_type": "stream",
     "text": [
      "1928\n"
     ]
    }
   ],
   "source": [
    "blocks = { \"full\": [], \"free\": [] }\n",
    "blocks[\"full\"]: list[list[str]]\n",
    "blocks[\"free\"]: list[str]\n",
    "\n",
    "\n",
    "with open(\"data/test.txt\", \"r\") as file:\n",
    "    content = file.read().strip()\n",
    "    block_id = 0\n",
    "    for i, c in enumerate(content):\n",
    "        if i % 2 == 0:\n",
    "            blocks[\"full\"].append([str(block_id)] * int(c))\n",
    "            block_id += 1\n",
    "        else:\n",
    "            blocks[\"free\"].append(\".\" * int(c))\n",
    "\n",
    "\n",
    "frag_block_parts = []\n",
    "full_iter = iter(blocks[\"full\"])\n",
    "free_iter = iter(blocks[\"free\"])\n",
    "\n",
    "for full_block, free_block in zip_longest(full_iter, free_iter, fillvalue=None):\n",
    "    if full_block is not None:\n",
    "        frag_block_parts.extend(full_block)\n",
    "    if free_block is not None:\n",
    "        frag_block_parts.extend(free_block)\n",
    "\n",
    "frag_iter = iter(frag_block_parts)\n",
    "index = 0\n",
    "\n",
    "while True:\n",
    "    while frag_block_parts and frag_block_parts[-1] == \".\":\n",
    "        frag_block_parts.pop()\n",
    "    try:\n",
    "        c = next(frag_iter)\n",
    "        frag_block_parts[index] = frag_block_parts.pop() if c == \".\" else frag_block_parts[index]\n",
    "        index += 1\n",
    "    except StopIteration:\n",
    "        break\n",
    "\n",
    "checksum = calc_checksum(frag_block_parts)\n",
    "print(checksum)"
   ]
  },
  {
   "cell_type": "markdown",
   "id": "fd4084c4-4918-42c9-ab12-97dc1945f41e",
   "metadata": {},
   "source": [
    "## Part 2"
   ]
  },
  {
   "cell_type": "code",
   "execution_count": 25,
   "id": "b15c96dd-5b9f-4985-9e6d-f1dcb9f0a989",
   "metadata": {},
   "outputs": [
    {
     "name": "stdout",
     "output_type": "stream",
     "text": [
      "File Blocks: \n",
      " 00 111 2 333 44 5555 6666 777 8888 99 \n",
      "------------ \n",
      "Free Blocks \n",
      " ... ... ... . . . . .  \n",
      "\n"
     ]
    },
    {
     "data": {
      "text/plain": [
       "{'full': [FileBlock(size=2, id='0'),\n",
       "  FileBlock(size=3, id='1'),\n",
       "  FileBlock(size=1, id='2'),\n",
       "  FileBlock(size=3, id='3'),\n",
       "  FileBlock(size=2, id='4'),\n",
       "  FileBlock(size=4, id='5'),\n",
       "  FileBlock(size=4, id='6'),\n",
       "  FileBlock(size=3, id='7'),\n",
       "  FileBlock(size=4, id='8'),\n",
       "  FileBlock(size=2, id='9')],\n",
       " 'free': [FreeBlock(size=3),\n",
       "  FreeBlock(size=3),\n",
       "  FreeBlock(size=3),\n",
       "  FreeBlock(size=1),\n",
       "  FreeBlock(size=1),\n",
       "  FreeBlock(size=1),\n",
       "  FreeBlock(size=1),\n",
       "  FreeBlock(size=1),\n",
       "  FreeBlock(size=0)]}"
      ]
     },
     "execution_count": 25,
     "metadata": {},
     "output_type": "execute_result"
    }
   ],
   "source": [
    "new_blocks = {\"full\": [], \"free\": []}\n",
    "\n",
    "for block in blocks[\"full\"]:\n",
    "    new_blocks[\"full\"].append(FileBlock(\n",
    "        id = block[0],\n",
    "        size = len(block)\n",
    "    ))\n",
    "\n",
    "for block in blocks[\"free\"]:\n",
    "    new_blocks[\"free\"].append(FreeBlock(\n",
    "        size = len(block)\n",
    "    ))\n",
    "\n",
    "\n",
    "print(\"File Blocks:\", \"\\n\", *new_blocks[\"full\"], \"\\n------------\", \"\\nFree Blocks\", \"\\n\", *new_blocks[\"free\"], \"\\n\")\n",
    "\n",
    "new_blocks"
   ]
  },
  {
   "cell_type": "code",
   "execution_count": 17,
   "id": "75ff9552-7ef7-4bc6-b344-5ab5fd3bdd15",
   "metadata": {},
   "outputs": [],
   "source": [
    "with open(\"answer.txt\", \"w\") as file:\n",
    "    file.writelines([str(checksum)])"
   ]
  }
 ],
 "metadata": {
  "kernelspec": {
   "display_name": "advent of python",
   "language": "python",
   "name": "advent"
  },
  "language_info": {
   "codemirror_mode": {
    "name": "ipython",
    "version": 3
   },
   "file_extension": ".py",
   "mimetype": "text/x-python",
   "name": "python",
   "nbconvert_exporter": "python",
   "pygments_lexer": "ipython3",
   "version": "3.11.10"
  }
 },
 "nbformat": 4,
 "nbformat_minor": 5
}
