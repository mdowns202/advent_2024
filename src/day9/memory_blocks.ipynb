{
 "cells": [
  {
   "cell_type": "markdown",
   "id": "273fbdda-1499-410d-a452-6a7d7fed4fd0",
   "metadata": {},
   "source": [
    "# Advent of Code 2024 Day 9 (Disk Fragmenter)"
   ]
  },
  {
   "cell_type": "markdown",
   "id": "e302cdd7-829c-42e8-a4a6-d641c2167c53",
   "metadata": {},
   "source": [
    "## Part 1"
   ]
  },
  {
   "cell_type": "code",
   "execution_count": 2,
   "id": "5005d92c-2baa-415c-b0c7-bf51c1f15d54",
   "metadata": {},
   "outputs": [
    {
     "name": "stdout",
     "output_type": "stream",
     "text": [
      "6330095022244\n"
     ]
    }
   ],
   "source": [
    "blocks = { \"full\": [], \"free\": [] }\n",
    "blocks[\"full\"]: list[list[str]]\n",
    "blocks[\"free\"]: list[str]\n",
    "\n",
    "\n",
    "with open(\"data/blocks.txt\", \"r\") as file:\n",
    "    content = file.read().strip()\n",
    "    block_id = 0\n",
    "    for i, c in enumerate(content):\n",
    "        if i % 2 == 0:\n",
    "            blocks[\"full\"].append([str(block_id)] * int(c))\n",
    "            block_id += 1\n",
    "        else:\n",
    "            blocks[\"free\"].append(\".\" * int(c))\n",
    "\n",
    "\n",
    "whole_block_parts = []\n",
    "\n",
    "full_iter = iter(blocks[\"full\"])\n",
    "free_iter = iter(blocks[\"free\"])\n",
    "\n",
    "stop_full = False\n",
    "stop_free = False\n",
    "index = 0\n",
    "\n",
    "while not (stop_full and stop_free):\n",
    "    current_iter = full_iter if index % 2 == 0 else free_iter\n",
    "    b = next(current_iter, None)\n",
    "    \n",
    "    if b is None:\n",
    "        if index % 2 == 0:\n",
    "            stop_full = True\n",
    "        else:\n",
    "            stop_free = True\n",
    "    else:\n",
    "        whole_block_parts.extend(b)\n",
    "    \n",
    "    index += 1\n",
    "\n",
    "whole_iter = iter(whole_block_parts)\n",
    "index = 0\n",
    "\n",
    "while True:\n",
    "    for part in whole_block_parts:\n",
    "        if whole_block_parts[-1] == \".\":\n",
    "            whole_block_parts.pop()\n",
    "        else:\n",
    "            break\n",
    "    try:\n",
    "        c = next(whole_iter)\n",
    "        whole_block_parts[index] = whole_block_parts.pop() if c == \".\" else whole_block_parts[index]\n",
    "        index += 1\n",
    "    except StopIteration:\n",
    "        break\n",
    "\n",
    "checksum = 0\n",
    "for i, compact_part in enumerate(whole_block_parts):\n",
    "    checksum += i * int(compact_part)\n",
    "\n",
    "print(checksum)"
   ]
  },
  {
   "cell_type": "code",
   "execution_count": 5,
   "id": "75ff9552-7ef7-4bc6-b344-5ab5fd3bdd15",
   "metadata": {},
   "outputs": [],
   "source": [
    "with open(\"answer.txt\", \"w\") as file:\n",
    "    file.writelines([str(checksum)])"
   ]
  }
 ],
 "metadata": {
  "kernelspec": {
   "display_name": "advent of python",
   "language": "python",
   "name": "advent"
  },
  "language_info": {
   "codemirror_mode": {
    "name": "ipython",
    "version": 3
   },
   "file_extension": ".py",
   "mimetype": "text/x-python",
   "name": "python",
   "nbconvert_exporter": "python",
   "pygments_lexer": "ipython3",
   "version": "3.11.10"
  }
 },
 "nbformat": 4,
 "nbformat_minor": 5
}
