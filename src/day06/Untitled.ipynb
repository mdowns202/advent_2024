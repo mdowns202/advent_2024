{
 "cells": [
  {
   "cell_type": "code",
   "execution_count": null,
   "id": "453a730e-d7cb-4286-b5ca-a9587fcdd182",
   "metadata": {},
   "outputs": [],
   "source": [
    "from enum import auto, StrEnum"
   ]
  },
  {
   "cell_type": "code",
   "execution_count": 5,
   "id": "6ea88e9f-7de2-4944-b1e9-10b80b3b845b",
   "metadata": {},
   "outputs": [
    {
     "data": {
      "text/plain": [
       "['....#.....',\n",
       " '.........#',\n",
       " '..........',\n",
       " '..#.......',\n",
       " '.......#..',\n",
       " '..........',\n",
       " '.#..^.....',\n",
       " '........#.',\n",
       " '#.........',\n",
       " '......#...']"
      ]
     },
     "execution_count": 5,
     "metadata": {},
     "output_type": "execute_result"
    }
   ],
   "source": [
    "with open(\"data/test.txt\", \"r\") as file:\n",
    "    content = [row.strip() for row in file.readlines()]\n",
    "\n",
    "content"
   ]
  },
  {
   "cell_type": "code",
   "execution_count": null,
   "id": "e7fbddbc-9736-4f3f-8c36-5fa61557c3d0",
   "metadata": {},
   "outputs": [],
   "source": [
    "class Direction(StrEnum):\n",
    "    NORTH = auto()\n",
    "    EAST = auto()\n",
    "    SOUTH = auto()\n",
    "    WEST = auto()\n",
    "\n",
    "@dataclass(slots=True)\n",
    "class Guard:\n",
    "    position: tuple\n",
    "    direction: Direction\n",
    "\n",
    "    def move(self):\n",
    "        match self.direction:\n",
    "            case NORTH:\n",
    "                ...\n",
    "            case EAST:\n",
    "                ...\n",
    "            case SOUTH:\n",
    "                ...\n",
    "            case WEST:\n",
    "                ...\n",
    "                \n",
    "        self.position = pos\n",
    "\n",
    "for row in content:\n",
    "    for "
   ]
  }
 ],
 "metadata": {
  "kernelspec": {
   "display_name": "advent of python",
   "language": "python",
   "name": "advent"
  },
  "language_info": {
   "codemirror_mode": {
    "name": "ipython",
    "version": 3
   },
   "file_extension": ".py",
   "mimetype": "text/x-python",
   "name": "python",
   "nbconvert_exporter": "python",
   "pygments_lexer": "ipython3",
   "version": "3.11.10"
  }
 },
 "nbformat": 4,
 "nbformat_minor": 5
}
