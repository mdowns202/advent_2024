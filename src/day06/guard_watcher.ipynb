{
 "cells": [
  {
   "cell_type": "markdown",
   "id": "8c1a2821-ed50-4b64-bf8d-894cbf0b15da",
   "metadata": {},
   "source": [
    "# Advent of Code 2024 Day 6 (Guard Gallivant)"
   ]
  },
  {
   "cell_type": "markdown",
   "id": "0d23083f-5c91-42ff-aa43-0ff3f52a15d2",
   "metadata": {},
   "source": [
    "## Part 1"
   ]
  },
  {
   "cell_type": "code",
   "execution_count": 2,
   "id": "453a730e-d7cb-4286-b5ca-a9587fcdd182",
   "metadata": {},
   "outputs": [],
   "source": [
    "from dataclasses import dataclass, field\n",
    "from enum import auto, StrEnum"
   ]
  },
  {
   "cell_type": "code",
   "execution_count": 3,
   "id": "6ea88e9f-7de2-4944-b1e9-10b80b3b845b",
   "metadata": {},
   "outputs": [],
   "source": [
    "with open(\"data/guard.txt\", \"r\") as file:\n",
    "    content = [row.strip() for row in file.readlines()]"
   ]
  },
  {
   "cell_type": "code",
   "execution_count": 4,
   "id": "e7fbddbc-9736-4f3f-8c36-5fa61557c3d0",
   "metadata": {},
   "outputs": [],
   "source": [
    "class Direction(StrEnum):\n",
    "    NORTH = auto()\n",
    "    EAST = auto()\n",
    "    SOUTH = auto()\n",
    "    WEST = auto()\n",
    "\n",
    "@dataclass(slots=True)\n",
    "class Guard:\n",
    "    position: tuple\n",
    "    direction: Direction\n",
    "    visited: set = field(default_factory=set)\n",
    "\n",
    "    def __post_init__(self):\n",
    "        self.visited.add(self.position)\n",
    "\n",
    "    @property\n",
    "    def is_exiting(self):\n",
    "        return any([\n",
    "            guard.position[0] < 0,\n",
    "            guard.position[0] >= len(content),\n",
    "            guard.position[1] < 0,\n",
    "            guard.position[1] >= len(content[0])\n",
    "        ])\n",
    "\n",
    "    def move(self):\n",
    "        self.position = self.next_position()\n",
    "        if not self.is_exiting:\n",
    "            self.visited.add(self.position)\n",
    "        return self.position\n",
    "\n",
    "    def next_position(self):\n",
    "        match self.direction:\n",
    "            case Direction.NORTH:\n",
    "                return (self.position[0] - 1, self.position[1])\n",
    "            case Direction.EAST:\n",
    "                return (self.position[0], self.position[1] + 1)\n",
    "            case Direction.SOUTH:\n",
    "                return (self.position[0] + 1, self.position[1])\n",
    "            case Direction.WEST:\n",
    "                return (self.position[0], self.position[1] - 1)\n",
    "                \n",
    "        \n",
    "    def turn(self):\n",
    "        match self.direction:\n",
    "            case Direction.NORTH:\n",
    "                self.direction = Direction.EAST\n",
    "            case Direction.EAST:\n",
    "                self.direction = Direction.SOUTH\n",
    "            case Direction.SOUTH:\n",
    "                self.direction = Direction.WEST\n",
    "            case Direction.WEST:\n",
    "                self.direction = Direction.NORTH"
   ]
  },
  {
   "cell_type": "code",
   "execution_count": 5,
   "id": "aaa5a69d-024d-46d4-847d-fe9b67759bd7",
   "metadata": {},
   "outputs": [
    {
     "data": {
      "text/plain": [
       "5129"
      ]
     },
     "execution_count": 5,
     "metadata": {},
     "output_type": "execute_result"
    }
   ],
   "source": [
    "guard_pos = ()\n",
    "obstacles = []\n",
    "\n",
    "for x, row in enumerate(content):\n",
    "    for y, c in enumerate(row):\n",
    "        if c == \"#\":\n",
    "            obstacles.append((x, y))\n",
    "        elif c == \"^\":\n",
    "            guard_pos = (x, y)\n",
    "\n",
    "guard = Guard(guard_pos, Direction.NORTH)\n",
    "\n",
    "while not guard.is_exiting:\n",
    "    if guard.next_position() in obstacles:\n",
    "        guard.turn()\n",
    "    \n",
    "    guard.move()\n",
    "        \n",
    "\n",
    "answer = len(guard.visited)\n",
    "answer"
   ]
  },
  {
   "cell_type": "code",
   "execution_count": 6,
   "id": "4f0bb14d-a348-4582-90c2-d93334dd3018",
   "metadata": {},
   "outputs": [],
   "source": [
    "with open(\"answer.txt\", \"w\") as file:\n",
    "    file.writelines([str(answer)])"
   ]
  }
 ],
 "metadata": {
  "kernelspec": {
   "display_name": "advent of python",
   "language": "python",
   "name": "advent"
  },
  "language_info": {
   "codemirror_mode": {
    "name": "ipython",
    "version": 3
   },
   "file_extension": ".py",
   "mimetype": "text/x-python",
   "name": "python",
   "nbconvert_exporter": "python",
   "pygments_lexer": "ipython3",
   "version": "3.11.10"
  }
 },
 "nbformat": 4,
 "nbformat_minor": 5
}
