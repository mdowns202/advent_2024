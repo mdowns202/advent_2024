{
 "cells": [
  {
   "cell_type": "markdown",
   "id": "3cbffb4b-8835-44fe-8698-8524d66c5b16",
   "metadata": {},
   "source": [
    "# Advent of Code 2024 Day 14 (Restroom Redoubt)"
   ]
  },
  {
   "cell_type": "markdown",
   "id": "407132e6-5225-42c4-b16a-f00447a3d07f",
   "metadata": {},
   "source": [
    "## Part 1"
   ]
  },
  {
   "cell_type": "code",
   "execution_count": 1,
   "id": "fd496112-65ef-410d-a5f8-75fa4d168f7a",
   "metadata": {},
   "outputs": [],
   "source": [
    "from dataclasses import dataclass\n",
    "from enum import auto, Enum"
   ]
  },
  {
   "cell_type": "code",
   "execution_count": 4,
   "id": "53e14ed5-4152-4d07-9f24-37ec40b320d8",
   "metadata": {},
   "outputs": [],
   "source": [
    "GRID_WIDTH = 101\n",
    "GRID_HEIGHT = 103\n",
    "\n",
    "@dataclass(slots=True)\n",
    "class Robot:\n",
    "    position: tuple\n",
    "    velocity: tuple\n",
    "\n",
    "    def move(self):\n",
    "        self.position = (self.position[0] + self.velocity[0], self.position[1] + self.velocity[1])\n",
    "\n",
    "        if self.position[0] < 0:\n",
    "            self.position = (self.position[0] + GRID_WIDTH, self.position[1])\n",
    "        if self.position[0] > GRID_WIDTH - 1:\n",
    "            self.position = (self.position[0] - GRID_WIDTH, self.position[1])\n",
    "        if self.position[1] < 0:\n",
    "            self.position = (self.position[0], self.position[1] + GRID_HEIGHT)\n",
    "        if self.position[1] > GRID_HEIGHT - 1:\n",
    "            self.position = (self.position[0], self.position[1] - GRID_HEIGHT)\n",
    "\n",
    "\n",
    "class Quadrant(Enum):\n",
    "    NE = auto()\n",
    "    SE = auto()\n",
    "    SW = auto()\n",
    "    NW = auto()\n",
    "\n",
    "    @staticmethod\n",
    "    def classify(point):\n",
    "        x, y = point\n",
    "        match (x > GRID_WIDTH // 2, y > GRID_HEIGHT // 2):\n",
    "            case (True, True):\n",
    "                return Quadrant.NE\n",
    "            case (True, False):\n",
    "                return Quadrant.SE\n",
    "            case (False, False):\n",
    "                return Quadrant.SW\n",
    "            case (False, True):\n",
    "                return Quadrant.NW\n",
    "    \n",
    "    "
   ]
  },
  {
   "cell_type": "code",
   "execution_count": 5,
   "id": "bd19fcee-3362-47c6-8775-5a6b7caee0c2",
   "metadata": {},
   "outputs": [
    {
     "data": {
      "text/plain": [
       "214109808"
      ]
     },
     "execution_count": 5,
     "metadata": {},
     "output_type": "execute_result"
    }
   ],
   "source": [
    "robots = []\n",
    "\n",
    "with open(\"data/robots.txt\") as file:\n",
    "    content = file.readlines()\n",
    "    for line in content:\n",
    "        split_line = line.split()\n",
    "        robots.append(Robot(\n",
    "            position = tuple([int(pos) for pos in split_line[0].replace(\"p=\", \"\").split(\",\")]),\n",
    "            velocity = tuple([int(vel) for vel in split_line[1].replace(\"v=\", \"\").split(\",\")])\n",
    "        ))\n",
    "\n",
    "for _ in range(100):\n",
    "    for robot in robots:\n",
    "        robot.move()\n",
    "\n",
    "final_positions = [\n",
    "    bot.position\n",
    "    for bot in robots\n",
    "    if bot.position[0] != (GRID_WIDTH // 2)\n",
    "    and bot.position[1] != (GRID_HEIGHT // 2)\n",
    "]\n",
    "quadrants = [Quadrant.classify(pos) for pos in final_positions]\n",
    "\n",
    "ne, se, sw, nw = quadrants.count(Quadrant.NE), quadrants.count(Quadrant.SE), quadrants.count(Quadrant.SW), quadrants.count(Quadrant.NW)\n",
    "safety_factor = ne * se * sw * nw\n",
    "safety_factor"
   ]
  },
  {
   "cell_type": "code",
   "execution_count": 6,
   "id": "94166da7-3745-45b0-b606-39df0210bd0f",
   "metadata": {},
   "outputs": [],
   "source": [
    "with open(\"answer.txt\", \"w\") as file:\n",
    "    file.writelines([str(safety_factor)])"
   ]
  }
 ],
 "metadata": {
  "kernelspec": {
   "display_name": "advent of python",
   "language": "python",
   "name": "advent"
  },
  "language_info": {
   "codemirror_mode": {
    "name": "ipython",
    "version": 3
   },
   "file_extension": ".py",
   "mimetype": "text/x-python",
   "name": "python",
   "nbconvert_exporter": "python",
   "pygments_lexer": "ipython3",
   "version": "3.11.10"
  }
 },
 "nbformat": 4,
 "nbformat_minor": 5
}
