{
 "cells": [
  {
   "cell_type": "markdown",
   "id": "dd23d196-089c-4cce-8097-10ad504a3170",
   "metadata": {},
   "source": [
    "# Advent of Code 2024 Day 17 (Chronospatial Computer)"
   ]
  },
  {
   "cell_type": "markdown",
   "id": "ec97c48a-f2a2-417b-a591-1e8f035c35a2",
   "metadata": {},
   "source": [
    "## Part 1"
   ]
  },
  {
   "cell_type": "code",
   "execution_count": 1,
   "id": "7186f441-adb6-4437-a5ff-86191391b283",
   "metadata": {},
   "outputs": [],
   "source": [
    "from dataclasses import dataclass\n",
    "from enum import auto, Enum\n",
    "import copy\n",
    "import math"
   ]
  },
  {
   "cell_type": "code",
   "execution_count": 2,
   "id": "c571ca21-ba32-45af-b824-575ad089e5d6",
   "metadata": {},
   "outputs": [],
   "source": [
    "OperandType = Enum(\"OperandType\", \"COMBO LITERAL\")\n",
    "\n",
    "class Opcode(Enum):\n",
    "    ADV = 0\n",
    "    BXL = auto()\n",
    "    BST = auto()\n",
    "    JNZ = auto()\n",
    "    BXC = auto()\n",
    "    OUT = auto()\n",
    "    BDV = auto()\n",
    "    CDV = auto()\n",
    "\n",
    "    @property\n",
    "    def operand_type(self) -> OperandType | None:\n",
    "        match self:\n",
    "            case self.ADV | self.BST | self.OUT | self.BDV | self.CDV:\n",
    "                operand_type = OperandType.COMBO\n",
    "            case self.BXL | self.JNZ:\n",
    "                operand_type = OperandType.LITERAL\n",
    "            case _:\n",
    "                operand_type = None\n",
    "\n",
    "        return operand_type\n",
    "\n",
    "@dataclass(slots=True, frozen=True)\n",
    "class Operand:\n",
    "    value: int\n",
    "    category: OperandType\n",
    "\n",
    "@dataclass(slots=True)\n",
    "class Pointer:\n",
    "    position: int = 0\n",
    "    is_on_opcode: bool = True\n",
    "\n",
    "    def move(self):\n",
    "        self.position += 1\n",
    "        self.is_on_opcode = False if self.is_on_opcode else True\n",
    "\n",
    "    def jump(self, new_pos):\n",
    "        self.position = new_pos\n",
    "        self.is_on_opcode = True\n",
    "\n",
    "    def reset(self):\n",
    "        self.position = 0\n",
    "        self.is_on_opcode = True\n",
    "\n",
    "@dataclass(slots=True, frozen=True)\n",
    "class Instruction:\n",
    "    opcode: Opcode\n",
    "    operand: Operand\n",
    "\n",
    "    def operate(self, registers: dict):\n",
    "        operand_val = self.get_operand_value(registers)\n",
    "                        \n",
    "        match self.opcode:\n",
    "            case Opcode.ADV:\n",
    "                registers[\"A\"] = math.trunc(registers[\"A\"] / (2**operand_val))\n",
    "            case Opcode.BDV:\n",
    "                registers[\"B\"] = math.trunc(registers[\"A\"] / (2**operand_val))\n",
    "            case Opcode.CDV:\n",
    "                registers[\"C\"] = math.trunc(registers[\"A\"] / (2**operand_val))\n",
    "            case Opcode.BXL:\n",
    "                registers[\"B\"] = registers[\"B\"] ^ operand_val\n",
    "            case Opcode.BST:\n",
    "                registers[\"B\"] = operand_val % 8\n",
    "            case Opcode.BXC:\n",
    "                registers[\"B\"] = registers[\"B\"] ^ registers[\"C\"]\n",
    "            case _:\n",
    "                result = None\n",
    "\n",
    "    def get_output(self, registers):\n",
    "        output = self.get_operand_value(registers) % 8\n",
    "        return output\n",
    "\n",
    "    def get_operand_value(self, registers):\n",
    "        if self.operand.category == OperandType.COMBO:\n",
    "            match self.operand.value:\n",
    "                case n if all([0 <= n, n <= 3]):\n",
    "                    operand_result = self.operand.value\n",
    "                case 4:\n",
    "                    operand_result = registers[\"A\"]\n",
    "                case 5:\n",
    "                    operand_result = registers[\"B\"]\n",
    "                case 6:\n",
    "                    operand_result = registers[\"C\"]\n",
    "                case _:\n",
    "                    raise ValueError(\"invalid operand value [0-6]\")\n",
    "        elif self.operand.category == OperandType.LITERAL:\n",
    "            if any([self.operand.value < 0, self.operand.value > 6]):\n",
    "                raise ValueError(\"invalid operand value [0-6]\")\n",
    "            operand_result = self.operand.value\n",
    "        else:\n",
    "            operand_result = None\n",
    "\n",
    "        return operand_result\n",
    "\n",
    "def run_program(codes: list[str], registers: dict[str, int], pointer: Pointer, matching: bool = False):\n",
    "    output = []\n",
    "    \n",
    "    while not program_is_finished(codes, pointer):\n",
    "        if pointer.is_on_opcode:\n",
    "            instruction = None\n",
    "            opcode = Opcode(int(codes[pointer.position]))\n",
    "        else:\n",
    "            operand = Operand(int(codes[pointer.position]), opcode.operand_type)\n",
    "            instruction = Instruction(opcode, operand)\n",
    "            \n",
    "            if instruction.opcode == Opcode.JNZ and registers[\"A\"] != 0:\n",
    "                pointer.jump(instruction.operand.value)\n",
    "                continue\n",
    "            elif instruction.opcode == Opcode.OUT:\n",
    "                output.append(instruction.get_output(registers))\n",
    "                if matching and len(output) > len(codes):\n",
    "                    break\n",
    "            else:\n",
    "                instruction.operate(registers)\n",
    "                \n",
    "        pointer.move()\n",
    "\n",
    "    return output\n",
    "\n",
    "def program_is_finished(codes: list[str], pointer: Pointer):\n",
    "    return pointer.position > len(codes) - 1"
   ]
  },
  {
   "cell_type": "code",
   "execution_count": 3,
   "id": "677ac0db-e3d7-42bd-9ee9-58b7396c94a4",
   "metadata": {},
   "outputs": [
    {
     "data": {
      "text/plain": [
       "'6,7,5,2,1,3,5,1,7'"
      ]
     },
     "execution_count": 3,
     "metadata": {},
     "output_type": "execute_result"
    }
   ],
   "source": [
    "pointer = Pointer()\n",
    "registers = dict()\n",
    "output = []\n",
    "\n",
    "with open(\"data/instructions.txt\", \"r\") as file:\n",
    "    content = [line.strip() for line in file.readlines()]\n",
    "    \n",
    "    for row in content:\n",
    "        if \"Register\" in row:\n",
    "            register_row = row.split()\n",
    "            key = register_row[-2].replace(\":\", \"\")\n",
    "            value = register_row[-1]\n",
    "            registers[key] = int(value)\n",
    "        elif \"Program\" in row:\n",
    "            codes = row.replace(\"Program: \", \"\").split(\",\")\n",
    "            output = run_program(codes, registers, pointer)\n",
    "\n",
    "                \n",
    "p1_output = \",\".join([str(out) for out in output])\n",
    "p1_output"
   ]
  },
  {
   "cell_type": "markdown",
   "id": "713f31f8-79c7-4416-994c-e5331fb575df",
   "metadata": {},
   "source": [
    "## Part 2"
   ]
  },
  {
   "cell_type": "markdown",
   "id": "26b20552-5660-4a3d-915a-759d8c937a20",
   "metadata": {},
   "source": [
    "#### This is a big number. The test set works, but the real answer seems to be prohibitively large. It looks like there is some sort of correlation between the A register and the length of the output list as well as a deterministic pattern to the output values themselves. I may come back for part 2 later."
   ]
  },
  {
   "cell_type": "code",
   "execution_count": 4,
   "id": "18c84cbc-97cc-4a20-b7c9-e227df4f231b",
   "metadata": {},
   "outputs": [],
   "source": [
    "def output_matches_program(output, program):\n",
    "    return (\n",
    "        \",\".join([str(o) for o in output]) == \",\".join([str(p) for p in program])\n",
    "    ) if output else False"
   ]
  },
  {
   "cell_type": "code",
   "execution_count": 5,
   "id": "6949c346-77b1-469d-8857-892c833967e8",
   "metadata": {},
   "outputs": [
    {
     "data": {
      "text/plain": [
       "117441"
      ]
     },
     "execution_count": 5,
     "metadata": {},
     "output_type": "execute_result"
    }
   ],
   "source": [
    "pointer = Pointer()\n",
    "real_registers = {\"A\": 0, \"B\": 0, \"C\": 0}\n",
    "program = []\n",
    "output = []\n",
    "\n",
    "with open(\"data/test.txt\", \"r\") as file:\n",
    "    program = [line.strip().replace(\"Program: \", \"\").split(\",\") for line in file.readlines() if \"Program\" in line][0]\n",
    "\n",
    "while not output_matches_program(output, program):\n",
    "    regs_copy = copy.deepcopy(real_registers)\n",
    "    pointer.reset()\n",
    "    output = run_program(program, regs_copy, pointer, matching=True)\n",
    "    real_registers[\"A\"] += 1\n",
    "\n",
    "real_registers[\"A\"]"
   ]
  },
  {
   "cell_type": "code",
   "execution_count": 6,
   "id": "4e3c335f-9b17-43c2-b872-44afc7a586e3",
   "metadata": {},
   "outputs": [],
   "source": [
    "with open(\"answer.txt\", \"w\") as file:\n",
    "    file.writelines([p1_output])"
   ]
  }
 ],
 "metadata": {
  "kernelspec": {
   "display_name": "Advent of Python",
   "language": "python",
   "name": "advent"
  },
  "language_info": {
   "codemirror_mode": {
    "name": "ipython",
    "version": 3
   },
   "file_extension": ".py",
   "mimetype": "text/x-python",
   "name": "python",
   "nbconvert_exporter": "python",
   "pygments_lexer": "ipython3",
   "version": "3.11.10"
  }
 },
 "nbformat": 4,
 "nbformat_minor": 5
}
