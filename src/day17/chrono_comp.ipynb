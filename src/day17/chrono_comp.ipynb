{
 "cells": [
  {
   "cell_type": "markdown",
   "id": "dd23d196-089c-4cce-8097-10ad504a3170",
   "metadata": {},
   "source": [
    "# Advent of Code 2024 Day 17 (Chronospatial Computer)"
   ]
  },
  {
   "cell_type": "markdown",
   "id": "ec97c48a-f2a2-417b-a591-1e8f035c35a2",
   "metadata": {},
   "source": [
    "## Part 1"
   ]
  },
  {
   "cell_type": "code",
   "execution_count": 1,
   "id": "7186f441-adb6-4437-a5ff-86191391b283",
   "metadata": {},
   "outputs": [],
   "source": [
    "from dataclasses import dataclass\n",
    "from enum import auto, Enum\n",
    "import math"
   ]
  },
  {
   "cell_type": "code",
   "execution_count": 2,
   "id": "c571ca21-ba32-45af-b824-575ad089e5d6",
   "metadata": {},
   "outputs": [],
   "source": [
    "OperandType = Enum(\"OperandType\", \"COMBO LITERAL\")\n",
    "\n",
    "class Opcode(Enum):\n",
    "    ADV = 0\n",
    "    BXL = auto()\n",
    "    BST = auto()\n",
    "    JNZ = auto()\n",
    "    BXC = auto()\n",
    "    OUT = auto()\n",
    "    BDV = auto()\n",
    "    CDV = auto()\n",
    "\n",
    "    @property\n",
    "    def operand_type(self) -> OperandType | None:\n",
    "        match self:\n",
    "            case self.ADV | self.BST | self.OUT | self.BDV | self.CDV:\n",
    "                operand_type = OperandType.COMBO\n",
    "            case self.BXL | self.JNZ:\n",
    "                operand_type = OperandType.LITERAL\n",
    "            case _:\n",
    "                operand_type = None\n",
    "\n",
    "        return operand_type\n",
    "\n",
    "@dataclass(slots=True, frozen=True)\n",
    "class Operand:\n",
    "    value: int\n",
    "    category: OperandType\n",
    "\n",
    "@dataclass(slots=True)\n",
    "class Pointer:\n",
    "    position: int\n",
    "    is_on_opcode: bool = True\n",
    "\n",
    "    def move(self):\n",
    "        self.position += 1\n",
    "        self.is_on_opcode = False if self.is_on_opcode else True\n",
    "\n",
    "    def jump(self, new_pos):\n",
    "        self.position = new_pos\n",
    "        self.is_on_opcode = True\n",
    "\n",
    "@dataclass(slots=True, frozen=True)\n",
    "class Instruction:\n",
    "    opcode: Opcode\n",
    "    operand: Operand\n",
    "\n",
    "    def operate(self, registers: dict):\n",
    "        operand_val = self.get_operand_value(registers)\n",
    "                        \n",
    "        match self.opcode:\n",
    "            case Opcode.ADV:\n",
    "                registers[\"A\"] = math.trunc(registers[\"A\"] / (2**operand_val))\n",
    "            case Opcode.BDV:\n",
    "                registers[\"B\"] = math.trunc(registers[\"A\"] / (2**operand_val))\n",
    "            case Opcode.CDV:\n",
    "                registers[\"C\"] = math.trunc(registers[\"A\"] / (2**operand_val))\n",
    "            case Opcode.BXL:\n",
    "                registers[\"B\"] = registers[\"B\"] ^ operand_val\n",
    "            case Opcode.BST:\n",
    "                registers[\"B\"] = operand_val % 8\n",
    "            case Opcode.BXC:\n",
    "                registers[\"B\"] = registers[\"B\"] ^ registers[\"C\"]\n",
    "            case _:\n",
    "                result = None\n",
    "\n",
    "        return registers\n",
    "\n",
    "    def get_output(self, registers):\n",
    "        output = self.get_operand_value(registers) % 8\n",
    "        return output\n",
    "\n",
    "    def get_operand_value(self, registers):\n",
    "        match self.operand.category:\n",
    "            case OperandType.COMBO:\n",
    "                match self.operand.value:\n",
    "                    case n if all([0 <= n, n <= 3]):\n",
    "                        operand_result = self.operand.value\n",
    "                    case 4:\n",
    "                        operand_result = registers[\"A\"]\n",
    "                    case 5:\n",
    "                        operand_result = registers[\"B\"]\n",
    "                    case 6:\n",
    "                        operand_result = registers[\"C\"]\n",
    "                    case _:\n",
    "                        raise ValueError(\"invalid operand value [0-6]\")\n",
    "            case OperandType.LITERAL:\n",
    "                if any([self.operand.value < 0, self.operand.value > 6]):\n",
    "                    raise ValueError(\"invalid operand value [0-6]\")\n",
    "                operand_result = self.operand.value\n",
    "            case _:\n",
    "                operand_result = None\n",
    "\n",
    "        return operand_result\n",
    "\n",
    "\n",
    "def program_is_finished(codes: list, pointer: Pointer):\n",
    "    return pointer.position > len(codes) - 1"
   ]
  },
  {
   "cell_type": "code",
   "execution_count": 3,
   "id": "677ac0db-e3d7-42bd-9ee9-58b7396c94a4",
   "metadata": {},
   "outputs": [
    {
     "data": {
      "text/plain": [
       "'6,7,5,2,1,3,5,1,7'"
      ]
     },
     "execution_count": 3,
     "metadata": {},
     "output_type": "execute_result"
    }
   ],
   "source": [
    "pointer = Pointer(0)\n",
    "registers = dict()\n",
    "output = []\n",
    "\n",
    "with open(\"data/instructions.txt\", \"r\") as file:\n",
    "    content = [line.strip() for line in file.readlines()]\n",
    "    \n",
    "    for row in content:\n",
    "        if \"Register\" in row:\n",
    "            register_row = row.split()\n",
    "            key = register_row[-2].replace(\":\", \"\")\n",
    "            value = register_row[-1]\n",
    "            registers[key] = int(value)\n",
    "        elif \"Program\" in row:\n",
    "            codes_list = row.split()\n",
    "            insts = row.replace(\"Program: \", \"\").split(\",\")\n",
    "            \n",
    "            while not program_is_finished(insts, pointer):\n",
    "                if pointer.is_on_opcode:\n",
    "                    instruction = None\n",
    "                    opcode = Opcode(int(insts[pointer.position]))\n",
    "                else:\n",
    "                    operand = Operand(int(insts[pointer.position]), opcode.operand_type)\n",
    "                    instruction = Instruction(opcode, operand)\n",
    "\n",
    "                    if instruction.opcode not in { Opcode.JNZ, Opcode.OUT }:\n",
    "                        result = instruction.operate(registers)\n",
    "                    elif instruction.opcode == Opcode.JNZ and registers[\"A\"] != 0:\n",
    "                        pointer.jump(instruction.operand.value)\n",
    "                        continue\n",
    "                    elif instruction.opcode == Opcode.OUT:\n",
    "                        output.append(instruction.get_output(registers))\n",
    "                        \n",
    "                pointer.move()\n",
    "\n",
    "                \n",
    "output = \",\".join([str(out) for out in output])\n",
    "output"
   ]
  },
  {
   "cell_type": "code",
   "execution_count": 4,
   "id": "4e3c335f-9b17-43c2-b872-44afc7a586e3",
   "metadata": {},
   "outputs": [],
   "source": [
    "with open(\"answer.txt\", \"w\") as file:\n",
    "    file.writelines([output])"
   ]
  }
 ],
 "metadata": {
  "kernelspec": {
   "display_name": "advent of python",
   "language": "python",
   "name": "advent"
  },
  "language_info": {
   "codemirror_mode": {
    "name": "ipython",
    "version": 3
   },
   "file_extension": ".py",
   "mimetype": "text/x-python",
   "name": "python",
   "nbconvert_exporter": "python",
   "pygments_lexer": "ipython3",
   "version": "3.11.10"
  }
 },
 "nbformat": 4,
 "nbformat_minor": 5
}
