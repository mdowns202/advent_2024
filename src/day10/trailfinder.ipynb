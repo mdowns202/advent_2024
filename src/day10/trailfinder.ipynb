{
 "cells": [
  {
   "cell_type": "markdown",
   "id": "187f0f7e-811a-4065-af43-f0c1fb9ed2d6",
   "metadata": {},
   "source": [
    "# Advent of Code 2024 Day 10 (Hoof It)"
   ]
  },
  {
   "cell_type": "markdown",
   "id": "146c4597-c89d-444a-b2ab-a87228fc18ee",
   "metadata": {},
   "source": [
    "## Part 1"
   ]
  },
  {
   "cell_type": "code",
   "execution_count": 1,
   "id": "cf8ff631-ceb7-4074-b0d9-548478413e29",
   "metadata": {},
   "outputs": [],
   "source": [
    "from dataclasses import dataclass, field"
   ]
  },
  {
   "cell_type": "code",
   "execution_count": 2,
   "id": "8dd640a0-db64-4a7f-9a7b-531418e33258",
   "metadata": {},
   "outputs": [],
   "source": [
    "with open(\"data/trails.txt\", \"r\") as file:\n",
    "    content = [line.strip() for line in file.readlines()]"
   ]
  },
  {
   "cell_type": "markdown",
   "id": "0a78b1e0-a181-49b0-a63f-ebc949d4715c",
   "metadata": {},
   "source": [
    "## TrailFinder and Trail Class Definitions"
   ]
  },
  {
   "cell_type": "code",
   "execution_count": 3,
   "id": "7a973317-fcc7-4d32-a9cf-87e0197353dd",
   "metadata": {},
   "outputs": [],
   "source": [
    "Position = tuple\n",
    "\n",
    "class TrailFinder:\n",
    "    def __init__(self, puzzle: list[list[str]]):\n",
    "        self.puzzle = puzzle\n",
    "        self.area: tuple[int, int] = (len(puzzle), len(puzzle[0]))\n",
    "        self.heads = self._locate_trailheads()\n",
    "\n",
    "    def _locate_trailheads(self) -> list[Position]:\n",
    "        trailheads = []\n",
    "        for x, row in enumerate(self.puzzle):\n",
    "            for y, num in enumerate(row):\n",
    "                if num == \"0\":\n",
    "                    trailheads.append((x, y))\n",
    "        return trailheads\n",
    "\n",
    "    def find_trails(self) -> list['Trail']:\n",
    "        trails = [Trail(head=head) for head in self.heads]\n",
    "\n",
    "        for trail in trails:\n",
    "            self.cursor = trail.head\n",
    "            slope_height = 0\n",
    "\n",
    "            def explore_path(current_pos, current_height, path):\n",
    "                x, y = current_pos\n",
    "\n",
    "                path.append(current_pos)\n",
    "\n",
    "                next_positions = []\n",
    "                if 0 <= x - 1 < self.area[0] and int(self.puzzle[x - 1][y]) == current_height + 1:\n",
    "                    next_positions.append((x - 1, y))\n",
    "                if 0 <= x + 1 < self.area[0] and int(self.puzzle[x + 1][y]) == current_height + 1:\n",
    "                    next_positions.append((x + 1, y))\n",
    "                if 0 <= y - 1 < self.area[1] and int(self.puzzle[x][y - 1]) == current_height + 1:\n",
    "                    next_positions.append((x, y - 1))\n",
    "                if 0 <= y + 1 < self.area[1] and int(self.puzzle[x][y + 1]) == current_height + 1:\n",
    "                    next_positions.append((x, y + 1))\n",
    "\n",
    "                if not next_positions:\n",
    "                    trail.add_path(path)\n",
    "                    return\n",
    "\n",
    "                for next_position in next_positions:\n",
    "                    explore_path(next_position, current_height + 1, path[:])\n",
    "\n",
    "            explore_path(trail.head, slope_height, [])\n",
    "\n",
    "        return trails\n",
    "\n",
    "@dataclass(slots=True)\n",
    "class Trail:\n",
    "    head: Position\n",
    "    paths: list[list[Position]] = field(default_factory=list)\n",
    "\n",
    "    def add_path(self, path: list[Position]):\n",
    "        self.paths.append(path)"
   ]
  },
  {
   "cell_type": "markdown",
   "id": "590c720f-e694-4b8e-80f1-63a2cbd62fc0",
   "metadata": {},
   "source": [
    "## Run TrailFinder to Recursively Explore Paths"
   ]
  },
  {
   "cell_type": "code",
   "execution_count": 4,
   "id": "fc228051-8b2e-4ea0-8114-89f5c3006ada",
   "metadata": {},
   "outputs": [
    {
     "data": {
      "text/plain": [
       "535"
      ]
     },
     "execution_count": 4,
     "metadata": {},
     "output_type": "execute_result"
    }
   ],
   "source": [
    "puzzle = [[num for num in row] for row in content]\n",
    "finder = TrailFinder(puzzle)\n",
    "\n",
    "trails = finder.find_trails()\n",
    "total_score = sum(\n",
    "    len({path[-1] for path in trail.paths if len(path) == 10})\n",
    "    for trail in trails\n",
    ")\n",
    "\n",
    "total_score"
   ]
  },
  {
   "cell_type": "code",
   "execution_count": 5,
   "id": "e26754e8-6367-409a-b78d-e807bfa991f9",
   "metadata": {},
   "outputs": [],
   "source": [
    "with open(\"answer.txt\", \"w\") as file:\n",
    "    file.write(str(total_score))"
   ]
  }
 ],
 "metadata": {
  "kernelspec": {
   "display_name": "advent of python",
   "language": "python",
   "name": "advent"
  },
  "language_info": {
   "codemirror_mode": {
    "name": "ipython",
    "version": 3
   },
   "file_extension": ".py",
   "mimetype": "text/x-python",
   "name": "python",
   "nbconvert_exporter": "python",
   "pygments_lexer": "ipython3",
   "version": "3.11.10"
  }
 },
 "nbformat": 4,
 "nbformat_minor": 5
}
