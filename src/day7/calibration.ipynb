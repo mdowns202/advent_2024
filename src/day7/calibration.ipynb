{
 "cells": [
  {
   "cell_type": "markdown",
   "id": "64c409ff-2133-4a12-89ce-5adaca5b06ba",
   "metadata": {},
   "source": [
    "# Advent of Code 2024 - Day 7 (Bridge Repair)"
   ]
  },
  {
   "cell_type": "code",
   "execution_count": 1,
   "id": "abdadddf-5c31-4007-aa6f-8e29cd235811",
   "metadata": {},
   "outputs": [],
   "source": [
    "import csv\n",
    "from dataclasses import dataclass\n",
    "from functools import cache"
   ]
  },
  {
   "cell_type": "markdown",
   "id": "d3eb52af-2171-4f52-bc69-f6615ebfa646",
   "metadata": {},
   "source": [
    "## Define Equation Class and Related Methods"
   ]
  },
  {
   "cell_type": "code",
   "execution_count": 2,
   "id": "5b3b9d32-2d8a-41d7-8b2a-f66af12af715",
   "metadata": {},
   "outputs": [
    {
     "name": "stdout",
     "output_type": "stream",
     "text": [
      "2 | 3 | 4 == 10  =>  True\n",
      "2 | 3 | 4 != 11  =>  False\n"
     ]
    }
   ],
   "source": [
    "@dataclass(slots=True)\n",
    "class Equation:\n",
    "    inputs: tuple[int]\n",
    "    target: int\n",
    "    _calibrated: bool = False\n",
    "\n",
    "    def __post_init__(self):\n",
    "        self._calibrated = Equation._is_calibrated(self.inputs, self.target)\n",
    "\n",
    "    def __str__(self):\n",
    "        return \" | \".join([str(inp) for inp in self.inputs]) + (\" == \" if self.calibrated else \" != \") + str(self.target)\n",
    "\n",
    "    @property\n",
    "    def calibrated(self):\n",
    "        return self._calibrated\n",
    "\n",
    "    @cache\n",
    "    @staticmethod\n",
    "    def _is_calibrated(inputs: tuple, target: int, current_value=0, index=0) -> bool:\n",
    "        if current_value == 0:\n",
    "            current_value = inputs[0]\n",
    "\n",
    "        if index == len(inputs) - 1:\n",
    "            return current_value == target\n",
    "\n",
    "        next_value = inputs[index + 1]\n",
    "        \n",
    "        return bool(\n",
    "            Equation._is_calibrated(inputs, target, current_value + next_value, index + 1) or\n",
    "            Equation._is_calibrated(inputs, target, current_value * next_value, index + 1)\n",
    "        )\n",
    "\n",
    "\n",
    "    \n",
    "        \n",
    "test_eq1 = Equation((2, 3, 4), 10)\n",
    "test_eq2 = Equation((2, 3, 4), 11)\n",
    "\n",
    "print(test_eq1, \" => \", test_eq1.calibrated)\n",
    "print(test_eq2, \" => \", test_eq2.calibrated)"
   ]
  },
  {
   "cell_type": "markdown",
   "id": "2c54fa65-5016-4e74-a254-bf633a4d8e50",
   "metadata": {},
   "source": [
    "## Get Equations from File"
   ]
  },
  {
   "cell_type": "code",
   "execution_count": 3,
   "id": "c69627b1-7352-4f4d-ad66-fe1d86a59f18",
   "metadata": {},
   "outputs": [
    {
     "data": {
      "text/plain": [
       "[Equation(inputs=(40, 770, 70, 8, 1), target=408407, _calibrated=False),\n",
       " Equation(inputs=(4, 40, 6, 66, 2, 4, 7, 8, 5, 519), target=1222314027, _calibrated=False),\n",
       " Equation(inputs=(12, 6, 79, 8, 369, 1), target=79632370, _calibrated=False),\n",
       " Equation(inputs=(7, 7, 6, 4, 2, 692, 6, 2, 8, 2, 2, 45), target=173138715990, _calibrated=False),\n",
       " Equation(inputs=(273, 593, 984, 3, 5, 489, 2), target=820782447, _calibrated=False),\n",
       " Equation(inputs=(1, 866, 33, 1, 222, 50), target=6344588, _calibrated=True),\n",
       " Equation(inputs=(1, 59, 6, 86, 8, 816, 45, 66), target=244480, _calibrated=False),\n",
       " Equation(inputs=(745, 872, 3, 68, 6, 4, 1, 442), target=30431590286, _calibrated=False),\n",
       " Equation(inputs=(530, 4, 7, 554, 827), target=1178358827, _calibrated=False),\n",
       " Equation(inputs=(380, 5, 3, 71, 85, 5, 36, 94, 1), target=5472884572198, _calibrated=False)]"
      ]
     },
     "execution_count": 3,
     "metadata": {},
     "output_type": "execute_result"
    }
   ],
   "source": [
    "equations = []\n",
    "\n",
    "with open(\"data/eqs.txt\") as file:\n",
    "    for line in csv.reader(file, delimiter=\":\"):\n",
    "        equations.append(Equation(\n",
    "            tuple([int(inp) for inp in line[1].strip().split()]),\n",
    "            int(line[0])\n",
    "        ))\n",
    "\n",
    "equations[:10]"
   ]
  },
  {
   "cell_type": "markdown",
   "id": "fb47b520-9008-48e3-b53f-7c6493daf3f6",
   "metadata": {},
   "source": [
    "## Sum Calibrated Equations"
   ]
  },
  {
   "cell_type": "code",
   "execution_count": 7,
   "id": "180e80fe-5702-475c-b10d-58ad2c630a28",
   "metadata": {},
   "outputs": [
    {
     "data": {
      "text/plain": [
       "8401132154762"
      ]
     },
     "execution_count": 7,
     "metadata": {},
     "output_type": "execute_result"
    }
   ],
   "source": [
    "calibration_result = sum([eq.target for eq in equations if eq.calibrated])\n",
    "\n",
    "calibration_result"
   ]
  },
  {
   "cell_type": "code",
   "execution_count": 5,
   "id": "2ce7ce93-d6dd-4be1-9904-04f836749367",
   "metadata": {},
   "outputs": [],
   "source": [
    "with open(\"answer.txt\", \"w\") as file:\n",
    "    file.write(str(calibration_result))"
   ]
  }
 ],
 "metadata": {
  "kernelspec": {
   "display_name": "advent of python",
   "language": "python",
   "name": "advent"
  },
  "language_info": {
   "codemirror_mode": {
    "name": "ipython",
    "version": 3
   },
   "file_extension": ".py",
   "mimetype": "text/x-python",
   "name": "python",
   "nbconvert_exporter": "python",
   "pygments_lexer": "ipython3",
   "version": "3.11.10"
  }
 },
 "nbformat": 4,
 "nbformat_minor": 5
}
