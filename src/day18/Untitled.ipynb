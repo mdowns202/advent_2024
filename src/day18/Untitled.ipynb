{
 "cells": [
  {
   "cell_type": "code",
   "execution_count": 51,
   "id": "d9ff8f9c-773c-4865-bc43-e967a3c5bcbf",
   "metadata": {},
   "outputs": [],
   "source": [
    "from dataclasses import dataclass"
   ]
  },
  {
   "cell_type": "code",
   "execution_count": 52,
   "id": "d48d1c99-ea57-464b-8916-0621ef445266",
   "metadata": {},
   "outputs": [],
   "source": [
    "@dataclass(slots=True, frozen=True)\n",
    "class MemSpace:\n",
    "    width: int\n",
    "    height: int\n",
    "    corrupted: set[tuple[int, int]]\n",
    "\n",
    "    def __str__(self):\n",
    "        memspace_str = \"\"\n",
    "        for y in range(self.height):\n",
    "            for x in range(self.width):\n",
    "                memspace_str += \".\" if (x, y) not in self.corrupted else \"#\"\n",
    "            memspace_str += \"\\n\" if y != self.height - 1 else \"\"\n",
    "        return memspace_str"
   ]
  },
  {
   "cell_type": "code",
   "execution_count": 53,
   "id": "c94dcbe9-9a46-48f1-b3de-a8c9fed81039",
   "metadata": {},
   "outputs": [
    {
     "name": "stdout",
     "output_type": "stream",
     "text": [
      "...#...\n",
      "..#..#.\n",
      "....#..\n",
      "...#..#\n",
      "..#..#.\n",
      ".#..#..\n",
      "#.#....\n"
     ]
    },
    {
     "data": {
      "text/plain": [
       "{(0, 6),\n",
       " (1, 5),\n",
       " (2, 1),\n",
       " (2, 4),\n",
       " (2, 6),\n",
       " (3, 0),\n",
       " (3, 3),\n",
       " (4, 2),\n",
       " (4, 5),\n",
       " (5, 1),\n",
       " (5, 4),\n",
       " (6, 3)}"
      ]
     },
     "execution_count": 53,
     "metadata": {},
     "output_type": "execute_result"
    }
   ],
   "source": [
    "incoming_bytes = set()\n",
    "bytes_to_check = 12\n",
    "\n",
    "with open(\"data/test.txt\", \"r\") as file:\n",
    "    incoming_bytes.update(tuple(map(int, line.strip().split(\",\"))) for line in file.readlines()[:bytes_to_check])\n",
    "\n",
    "space = MemSpace(7, 7, incoming_bytes)\n",
    "print(space)\n",
    "incoming_bytes"
   ]
  },
  {
   "cell_type": "code",
   "execution_count": null,
   "id": "cef323c8-1274-4e8d-8e01-1a1fc35933ed",
   "metadata": {},
   "outputs": [],
   "source": []
  }
 ],
 "metadata": {
  "kernelspec": {
   "display_name": "Advent of Python",
   "language": "python",
   "name": "advent"
  },
  "language_info": {
   "codemirror_mode": {
    "name": "ipython",
    "version": 3
   },
   "file_extension": ".py",
   "mimetype": "text/x-python",
   "name": "python",
   "nbconvert_exporter": "python",
   "pygments_lexer": "ipython3",
   "version": "3.11.10"
  }
 },
 "nbformat": 4,
 "nbformat_minor": 5
}
