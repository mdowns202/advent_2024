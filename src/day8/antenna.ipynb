{
 "cells": [
  {
   "cell_type": "markdown",
   "id": "3786e504-cda0-4e73-89e6-4d5888cb94c3",
   "metadata": {},
   "source": [
    "# Advent of Code Day 8, Part 1 (Resonant Collinearity) "
   ]
  },
  {
   "cell_type": "code",
   "execution_count": 138,
   "id": "3d0d98ce-797f-42ed-8e92-f36214f8a603",
   "metadata": {},
   "outputs": [
    {
     "data": {
      "text/plain": [
       "['..................................................',\n",
       " '................2.................................',\n",
       " '......6.........x.0..G............................',\n",
       " '..............x5......0..................S........',\n",
       " '.....0............................................',\n",
       " '..................................y..............e',\n",
       " '..........................G...............O.......',\n",
       " '.....................0........GO...............d..',\n",
       " '.........................8..........e.............',\n",
       " '.........6....................................e...',\n",
       " '......z6..5...N..x...................eY...........',\n",
       " '................6.........5..........Y.E..........']"
      ]
     },
     "execution_count": 138,
     "metadata": {},
     "output_type": "execute_result"
    }
   ],
   "source": [
    "rows = []\n",
    "\n",
    "with open(\"data/antenna.txt\", \"r\") as file:\n",
    "    content = file.readlines()\n",
    "    for line in content:\n",
    "        rows.append(line.strip())\n",
    "\n",
    "rows[:12]"
   ]
  },
  {
   "cell_type": "code",
   "execution_count": 145,
   "id": "90c6fca8-bd29-49f3-a469-a8bef519dbb3",
   "metadata": {},
   "outputs": [
    {
     "data": {
      "text/plain": [
       "['2', '6', 'x', '0', 'G', '5', 'S', 'y', 'e', 'O']"
      ]
     },
     "execution_count": 145,
     "metadata": {},
     "output_type": "execute_result"
    }
   ],
   "source": [
    "positions = {}\n",
    "\n",
    "for x, row in enumerate(rows):\n",
    "    for y, c in enumerate(row):\n",
    "        if c.isalnum():\n",
    "            positions.setdefault(c, [])\n",
    "            if (x, y) != (0, 0):\n",
    "                positions[c].append((x, y))\n",
    "            \n",
    "list(positions)[:10]"
   ]
  },
  {
   "cell_type": "markdown",
   "id": "9548ad3d-4180-44f5-a385-fc468f713a01",
   "metadata": {},
   "source": [
    "## Find Distance Between Points & Add Offset"
   ]
  },
  {
   "cell_type": "code",
   "execution_count": 142,
   "id": "db3f81ff-4857-4d75-b308-06e7adf55912",
   "metadata": {},
   "outputs": [
    {
     "name": "stdout",
     "output_type": "stream",
     "text": [
      "[(-12, -13), (-13, -7), (-29, 14)]\n",
      "[(12, 13), (-1, 6), (-17, 27)]\n",
      "[(13, 7), (1, -6), (-16, 21)]\n",
      "[(29, -14), (17, -27), (16, -21)]\n",
      "[(-7, -3), (-8, -1), (-9, -10)]\n",
      "\n"
     ]
    }
   ],
   "source": [
    "distances = {}\n",
    "\n",
    "for character, pos_list in positions.items():\n",
    "    for pos in pos_list:\n",
    "        for j in range(len(pos_list)):\n",
    "            dis = ((pos[0] - pos_list[j][0]), (pos[1] - pos_list[j][1]))\n",
    "            distances.setdefault(pos, [])\n",
    "            if dis != (0, 0):\n",
    "                distances[pos].append(dis)\n",
    "\n",
    "for position, distance in list(distances.items())[:5]:\n",
    "    print(distance)\n",
    "print()"
   ]
  },
  {
   "cell_type": "markdown",
   "id": "cd1ea26b-4cdf-4695-a16e-765060085741",
   "metadata": {},
   "source": [
    "## Mark Puzzle"
   ]
  },
  {
   "cell_type": "code",
   "execution_count": 149,
   "id": "912ffb0d-98bf-4318-865c-797a02f138f7",
   "metadata": {},
   "outputs": [
    {
     "name": "stdout",
     "output_type": "stream",
     "text": [
      "...............................#.........#........\n",
      "..............#.2.#...........#............#......\n",
      "......6.........x.0#.G....#............#.........#\n",
      "..#...........x5......0.....#............S........\n",
      ".....0......#.............#................#......\n",
      "............#.........#...........y.....#...#....e\n",
      "........#.................G...#....#......O.......\n",
      ".##.#................0....#...GO........#......d..\n",
      "......#.#..#.#......###..8........###...#.........\n",
      ".....#..#6........#...#.....#..........#......e...\n",
      "......z6..5...#..x...........#.#.....#Y...#....#..\n",
      "...#.#......#...6...#..#..5.#.......#Y.E..........\n"
     ]
    }
   ],
   "source": [
    "marked_puzzle = [list(row) for row in rows]\n",
    "\n",
    "for pos, dis_list in distances.items():\n",
    "    for dis in dis_list:\n",
    "        adjusted_x = pos[0] + dis[0]\n",
    "        adjusted_y = pos[1] + dis[1]\n",
    "        if 0 <= adjusted_x < len(rows) and 0 <= adjusted_y < len(rows[adjusted_x]):\n",
    "            marked_puzzle[adjusted_x][adjusted_y] = \"#\"\n",
    "\n",
    "marked_puzzle = [\"\".join(row) for row in marked_puzzle]\n",
    "\n",
    "for line in marked_puzzle[:12]:\n",
    "    print(line)"
   ]
  },
  {
   "cell_type": "code",
   "execution_count": 153,
   "id": "73f99981-acf5-4956-871c-3e9d33e3f34a",
   "metadata": {},
   "outputs": [
    {
     "data": {
      "text/plain": [
       "249"
      ]
     },
     "execution_count": 153,
     "metadata": {},
     "output_type": "execute_result"
    }
   ],
   "source": [
    "antinode_count = sum(1 for row in marked_puzzle for c in row if c == \"#\")\n",
    "\n",
    "antinode_count"
   ]
  },
  {
   "cell_type": "code",
   "execution_count": 155,
   "id": "8f13abe0-a5d2-48e3-a863-67c953391e7d",
   "metadata": {},
   "outputs": [],
   "source": [
    "with open(\"answer.txt\", \"w\") as file:\n",
    "    file.write(str(antinode_count))"
   ]
  }
 ],
 "metadata": {
  "kernelspec": {
   "display_name": "advent of python",
   "language": "python",
   "name": "advent"
  },
  "language_info": {
   "codemirror_mode": {
    "name": "ipython",
    "version": 3
   },
   "file_extension": ".py",
   "mimetype": "text/x-python",
   "name": "python",
   "nbconvert_exporter": "python",
   "pygments_lexer": "ipython3",
   "version": "3.11.10"
  }
 },
 "nbformat": 4,
 "nbformat_minor": 5
}
