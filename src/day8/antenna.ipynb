{
 "cells": [
  {
   "cell_type": "markdown",
   "id": "3786e504-cda0-4e73-89e6-4d5888cb94c3",
   "metadata": {},
   "source": [
    "# Advent of Code 2024 Day 8 (Resonant Collinearity) "
   ]
  },
  {
   "cell_type": "markdown",
   "id": "f688d995-2c26-444b-9b64-696c5f8a00da",
   "metadata": {},
   "source": [
    "## Part 1"
   ]
  },
  {
   "cell_type": "code",
   "execution_count": 2,
   "id": "3d0d98ce-797f-42ed-8e92-f36214f8a603",
   "metadata": {},
   "outputs": [],
   "source": [
    "rows = []\n",
    "\n",
    "with open(\"data/antenna.txt\", \"r\") as file:\n",
    "    content = file.readlines()\n",
    "    for line in content:\n",
    "        rows.append(line.strip())"
   ]
  },
  {
   "cell_type": "code",
   "execution_count": 3,
   "id": "90c6fca8-bd29-49f3-a469-a8bef519dbb3",
   "metadata": {},
   "outputs": [],
   "source": [
    "positions = {}\n",
    "\n",
    "for x, row in enumerate(rows):\n",
    "    for y, c in enumerate(row):\n",
    "        if c.isalnum():\n",
    "            positions.setdefault(c, [])\n",
    "            if (x, y) != (0, 0):\n",
    "                positions[c].append((x, y))"
   ]
  },
  {
   "cell_type": "markdown",
   "id": "9548ad3d-4180-44f5-a385-fc468f713a01",
   "metadata": {},
   "source": [
    "## Find Distances Between Points"
   ]
  },
  {
   "cell_type": "code",
   "execution_count": 4,
   "id": "db3f81ff-4857-4d75-b308-06e7adf55912",
   "metadata": {},
   "outputs": [],
   "source": [
    "distances = {}\n",
    "\n",
    "for character, pos_list in positions.items():\n",
    "    for pos in pos_list:\n",
    "        for j in range(len(pos_list)):\n",
    "            dis = ((pos[0] - pos_list[j][0]), (pos[1] - pos_list[j][1]))\n",
    "            distances.setdefault(pos, [])\n",
    "            if dis != (0, 0):\n",
    "                distances[pos].append(dis)"
   ]
  },
  {
   "cell_type": "markdown",
   "id": "cd1ea26b-4cdf-4695-a16e-765060085741",
   "metadata": {},
   "source": [
    "## Mark Puzzle"
   ]
  },
  {
   "cell_type": "code",
   "execution_count": 5,
   "id": "912ffb0d-98bf-4318-865c-797a02f138f7",
   "metadata": {},
   "outputs": [],
   "source": [
    "marked_puzzle = [list(row) for row in rows]\n",
    "\n",
    "for pos, dis_list in distances.items():\n",
    "    for dis in dis_list:\n",
    "        adjusted_x = pos[0] + dis[0]\n",
    "        adjusted_y = pos[1] + dis[1]\n",
    "        if 0 <= adjusted_x < len(rows) and 0 <= adjusted_y < len(rows[adjusted_x]):\n",
    "            marked_puzzle[adjusted_x][adjusted_y] = \"#\"\n",
    "\n",
    "marked_puzzle = [\"\".join(row) for row in marked_puzzle]"
   ]
  },
  {
   "cell_type": "code",
   "execution_count": 6,
   "id": "73f99981-acf5-4956-871c-3e9d33e3f34a",
   "metadata": {},
   "outputs": [
    {
     "data": {
      "text/plain": [
       "249"
      ]
     },
     "execution_count": 6,
     "metadata": {},
     "output_type": "execute_result"
    }
   ],
   "source": [
    "antinode_count = sum(1 for row in marked_puzzle for c in row if c == \"#\")\n",
    "\n",
    "antinode_count"
   ]
  },
  {
   "cell_type": "markdown",
   "id": "44bb382d-a6e4-4e7a-9a8b-1b7e3ced16f1",
   "metadata": {},
   "source": [
    "## Part 2"
   ]
  },
  {
   "cell_type": "code",
   "execution_count": 7,
   "id": "4bd97bb2-fa99-4593-8394-9ffb88c1eb8b",
   "metadata": {},
   "outputs": [],
   "source": [
    "marked_puzzle_inline = [list(row) for row in rows]\n",
    "\n",
    "for pos, dis_list in distances.items():\n",
    "    for dis in dis_list:\n",
    "        x, y = pos[0], pos[1]\n",
    "        while 0 <= x < len(rows) and 0 <= y < len(rows[x]):\n",
    "            marked_puzzle_inline[x][y] = \"#\"\n",
    "            x += dis[0]\n",
    "            y += dis[1]\n",
    "\n",
    "marked_puzzle_inline = [\"\".join(row) for row in marked_puzzle_inline]"
   ]
  },
  {
   "cell_type": "code",
   "execution_count": 8,
   "id": "fe330739-4767-40b2-ad90-021c5bd2f9ca",
   "metadata": {},
   "outputs": [
    {
     "data": {
      "text/plain": [
       "905"
      ]
     },
     "execution_count": 8,
     "metadata": {},
     "output_type": "execute_result"
    }
   ],
   "source": [
    "antinode_count_inline = sum(1 for row in marked_puzzle_inline for c in row if c == \"#\")\n",
    "\n",
    "antinode_count_inline"
   ]
  },
  {
   "cell_type": "code",
   "execution_count": 9,
   "id": "8f13abe0-a5d2-48e3-a863-67c953391e7d",
   "metadata": {},
   "outputs": [],
   "source": [
    "with open(\"answer.txt\", \"w\") as file:\n",
    "    file.writelines([str(antinode_count), f\"\\n{antinode_count_inline}\"])"
   ]
  }
 ],
 "metadata": {
  "kernelspec": {
   "display_name": "advent of python",
   "language": "python",
   "name": "advent"
  },
  "language_info": {
   "codemirror_mode": {
    "name": "ipython",
    "version": 3
   },
   "file_extension": ".py",
   "mimetype": "text/x-python",
   "name": "python",
   "nbconvert_exporter": "python",
   "pygments_lexer": "ipython3",
   "version": "3.11.10"
  }
 },
 "nbformat": 4,
 "nbformat_minor": 5
}
