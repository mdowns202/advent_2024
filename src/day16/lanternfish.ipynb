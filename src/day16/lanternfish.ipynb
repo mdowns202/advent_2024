{
 "cells": [
  {
   "cell_type": "markdown",
   "id": "c18f98b2-0e29-44d5-b92a-e6c1b9e6211e",
   "metadata": {},
   "source": [
    "# Advent of Code 2024 Day 15"
   ]
  },
  {
   "cell_type": "markdown",
   "id": "c0caa629-5afb-4bd8-81a9-94c446ace1b3",
   "metadata": {},
   "source": [
    "## Part 1"
   ]
  },
  {
   "cell_type": "code",
   "execution_count": 2,
   "id": "a116ba27-a7a5-4304-837a-e6538ce3eab4",
   "metadata": {},
   "outputs": [],
   "source": [
    "from dataclasses import dataclass, field\n",
    "from enum import auto, Enum"
   ]
  },
  {
   "cell_type": "code",
   "execution_count": 3,
   "id": "fd45f593-bae5-413c-a35d-0a57548ae490",
   "metadata": {},
   "outputs": [],
   "source": [
    "class Move(Enum):\n",
    "    UP = auto()\n",
    "    RIGHT = auto()\n",
    "    DOWN = auto()\n",
    "    LEFT = auto()\n",
    "\n",
    "    @staticmethod\n",
    "    def from_str(move_str):\n",
    "        match move_str:\n",
    "            case \"^\":\n",
    "                move = Move.UP\n",
    "            case \">\":\n",
    "                move = Move.RIGHT\n",
    "            case \"v\":\n",
    "                move = Move.DOWN\n",
    "            case \"<\":\n",
    "                move = Move.LEFT\n",
    "            case _:\n",
    "                raise ValueError(\"invalid move\")\n",
    "        return move\n",
    "\n",
    "@dataclass\n",
    "class BotArea:\n",
    "    moves: list[Move]\n",
    "    width: int = 0\n",
    "    height: int = 0\n",
    "    position: tuple = (0, 0)\n",
    "    boxes: set[tuple[int, int]] = field(default_factory=set)\n",
    "    obstacles: set[tuple[int, int]] = field(default_factory=set)\n",
    "    \n",
    "\n",
    "    def with_puzzle(self, puzzle_area):\n",
    "        self.width = len(puzzle_area)\n",
    "        self.height = len(puzzle_area[0])\n",
    "\n",
    "        for x, row in enumerate(puzzle_area):\n",
    "            for y, c in enumerate(row):\n",
    "                if c == \"O\":\n",
    "                    self.boxes.add((x, y))\n",
    "                elif c == \"@\":\n",
    "                    self.position = (x, y)\n",
    "                elif c == \"#\" and 1 <= x < self.width - 1 and 1 <= y < self.height- 1:\n",
    "                    self.obstacles.add((x, y))\n",
    "\n",
    "        return self\n",
    "\n",
    "    def sim_moves(self):\n",
    "        for move in self.moves:\n",
    "            try:\n",
    "                self._move_bot(move)\n",
    "                # print(self.position, move)\n",
    "            except Exception as e:\n",
    "                # print(e)\n",
    "                pass\n",
    "\n",
    "    def _move_bot(self, move):\n",
    "        match move:\n",
    "            case Move.UP:\n",
    "                delta = (-1, 0)\n",
    "            case Move.RIGHT:\n",
    "                delta = (0, 1)\n",
    "            case Move.DOWN:\n",
    "                delta = (1, 0)\n",
    "            case Move.LEFT:\n",
    "                delta = (0, -1)\n",
    "\n",
    "        next_pos = (self.position[0] + delta[0], self.position[1] + delta[1])\n",
    "\n",
    "        if next_pos in self.obstacles or not all([1 <= next_pos[0] < self.width - 1, 1 <= next_pos[1] < self.height - 1]):\n",
    "            raise Exception(f\"cannot move into wall or obstacle => {next_pos}\")\n",
    "        if next_pos in self.boxes:\n",
    "            self._push_boxes(next_pos, delta)\n",
    "        self.position = next_pos\n",
    "\n",
    "    def _push_boxes(self, start_pos, delta):\n",
    "        current_pos = start_pos\n",
    "        chain = []\n",
    "\n",
    "        while current_pos in self.boxes:\n",
    "            chain.append(current_pos)\n",
    "            current_pos = (current_pos[0] + delta[0], current_pos[1] + delta[1])\n",
    "\n",
    "        if not (1 <= current_pos[0] < self.width - 1 and 1 <= current_pos[1] < self.height- 1):\n",
    "            raise Exception(f\"cannot push box into a wall => {current_pos}\")\n",
    "\n",
    "        if current_pos in self.boxes or current_pos in self.obstacles:\n",
    "            raise Exception(f\"cannot push box into another box or obstacle => {current_pos}\")\n",
    "\n",
    "        for pos in reversed(chain):\n",
    "            next_pos = (pos[0] + delta[0], pos[1] + delta[1])\n",
    "            # print(f\"PUSHED: {pos} -> {next_pos}\")\n",
    "            self.boxes.remove(pos)\n",
    "            self.boxes.add(next_pos)\n",
    "\n",
    "        \n",
    "\n",
    "        "
   ]
  },
  {
   "cell_type": "code",
   "execution_count": 4,
   "id": "ada19e93-7578-4d2a-b8af-cf077b7a97a5",
   "metadata": {},
   "outputs": [
    {
     "data": {
      "text/plain": [
       "1442192"
      ]
     },
     "execution_count": 4,
     "metadata": {},
     "output_type": "execute_result"
    }
   ],
   "source": [
    "puzzle = []\n",
    "moves = []\n",
    "coord_sum = 0\n",
    "\n",
    "with open(\"data/gps.txt\", \"r\") as file:\n",
    "    content = file.readlines()\n",
    "    line_br = content.index(\"\\n\")\n",
    "    puzzle = [line.strip() for line in content[:line_br]]\n",
    "    move_strs = \"\".join([line.strip() for line in content[line_br+1:]])\n",
    "    moves = [Move.from_str(m) for m in move_strs]\n",
    "\n",
    "area = BotArea(moves).with_puzzle(puzzle)\n",
    "area.sim_moves()\n",
    "coord_sum = sum((100 * box[0]) + box[1] for box in area.boxes)\n",
    "coord_sum"
   ]
  },
  {
   "cell_type": "code",
   "execution_count": 6,
   "id": "71896773-5ab0-4630-8710-66bd6cd946f5",
   "metadata": {},
   "outputs": [],
   "source": [
    "with open(\"answer.txt\", \"w\") as file:\n",
    "    file.writelines([str(coord_sum)])"
   ]
  }
 ],
 "metadata": {
  "kernelspec": {
   "display_name": "advent of python",
   "language": "python",
   "name": "advent"
  },
  "language_info": {
   "codemirror_mode": {
    "name": "ipython",
    "version": 3
   },
   "file_extension": ".py",
   "mimetype": "text/x-python",
   "name": "python",
   "nbconvert_exporter": "python",
   "pygments_lexer": "ipython3",
   "version": "3.11.10"
  }
 },
 "nbformat": 4,
 "nbformat_minor": 5
}
