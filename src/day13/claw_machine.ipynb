{
 "cells": [
  {
   "cell_type": "code",
   "execution_count": 2,
   "id": "77c75563-59f4-4b87-94d3-30f74fb202b9",
   "metadata": {},
   "outputs": [],
   "source": [
    "from collections import deque\n",
    "from dataclasses import dataclass\n",
    "from math import gcd"
   ]
  },
  {
   "cell_type": "markdown",
   "id": "b443f15c-d31b-4576-a470-8b9002281b30",
   "metadata": {},
   "source": [
    "# Advent of Code 2024 Day 13 (Claw Contraption)"
   ]
  },
  {
   "cell_type": "markdown",
   "id": "1eb8090f-ec17-4fb9-9e94-e5e1d840586d",
   "metadata": {},
   "source": [
    "## Part 1"
   ]
  },
  {
   "cell_type": "code",
   "execution_count": 3,
   "id": "e54a9e1c-c4aa-4df0-8867-bb82ea2e0b2c",
   "metadata": {},
   "outputs": [],
   "source": [
    "@dataclass(slots=True)\n",
    "class ClawMachine:\n",
    "    a: tuple\n",
    "    b: tuple\n",
    "    prize: tuple\n",
    "    pos: tuple = (0, 0)\n",
    "    spent: int = 0\n",
    "\n",
    "    def push_button(self, button: str):\n",
    "        try:\n",
    "            match button:\n",
    "                case \"a\":\n",
    "                    self.pos = (self.pos[0] + self.a[0], self.pos[1] + self.a[1])\n",
    "                    self.spent += 3\n",
    "                case \"b\":\n",
    "                    self.pos = (self.pos[0] + self.b[0], self.pos[1] + self.b[1])\n",
    "                    self.spent += 1\n",
    "                case _:\n",
    "                    raise ValueError(\"invalid button pushed\")\n",
    "        except ValueError as e:\n",
    "            print(f\"an error has occured: {e}\")\n",
    "\n",
    "    def is_reachable(self):\n",
    "        def gcd2(a, b):\n",
    "            return gcd(abs(a), abs(b))\n",
    "\n",
    "        gcd_x = gcd2(self.a[0], self.b[0])\n",
    "        gcd_y = gcd2(self.a[1], self.b[1])\n",
    "\n",
    "        dx, dy = self.prize[0] - self.pos[0], self.prize[1] - self.pos[1]\n",
    "        return dx % gcd_x == 0 and dy % gcd_y == 0\n",
    "\n",
    "    def find_minimum_cost(self):\n",
    "        if not self.is_reachable():\n",
    "            return 0\n",
    "\n",
    "        queue = deque([(self.pos, self.spent, 0, 0)])\n",
    "        visited = set()\n",
    "        visited.add((self.pos, 0, 0))\n",
    "\n",
    "        while queue:\n",
    "            current_pos, current_cost, a_count, b_count = queue.popleft()\n",
    "\n",
    "            if current_pos == self.prize:\n",
    "                return current_cost\n",
    "\n",
    "            if a_count < 100:\n",
    "                original_pos = self.pos\n",
    "                original_spent = self.spent\n",
    "                self.pos = current_pos\n",
    "                self.spent = current_cost\n",
    "                self.push_button(\"a\")\n",
    "                if (self.pos, a_count + 1, b_count) not in visited:\n",
    "                    visited.add((self.pos, a_count + 1, b_count))\n",
    "                    queue.append((self.pos, self.spent, a_count + 1, b_count))\n",
    "                self.pos = original_pos\n",
    "                self.spent = original_spent\n",
    "\n",
    "            if b_count < 100:\n",
    "                original_pos = self.pos\n",
    "                original_spent = self.spent\n",
    "                self.pos = current_pos\n",
    "                self.spent = current_cost\n",
    "                self.push_button(\"b\")\n",
    "                if (self.pos, a_count, b_count + 1) not in visited:\n",
    "                    visited.add((self.pos, a_count, b_count + 1))\n",
    "                    queue.append((self.pos, self.spent, a_count, b_count + 1))\n",
    "                self.pos = original_pos\n",
    "                self.spent = original_spent\n",
    "\n",
    "        return 0\n"
   ]
  },
  {
   "cell_type": "code",
   "execution_count": 7,
   "id": "d1db1c34-9b06-43cd-9570-81137b23c4cb",
   "metadata": {},
   "outputs": [
    {
     "data": {
      "text/plain": [
       "36838"
      ]
     },
     "execution_count": 7,
     "metadata": {},
     "output_type": "execute_result"
    }
   ],
   "source": [
    "machines = []\n",
    "\n",
    "with open(\"data/claw.txt\", \"r\") as file:\n",
    "    mach_data = [m.split(\"\\n\") for m in file.read().strip().split(\"\\n\\n\")]\n",
    "    for machine in mach_data:\n",
    "        a = machine[0].lstrip(\"Button A: X+\").replace(\"Y+\", \"\")\n",
    "        b = machine[1].lstrip(\"Button A: X+\").replace(\"Y+\", \"\")\n",
    "        prize = machine[2].lstrip(\"Prize: X=\").replace(\"Y=\", \"\")\n",
    "\n",
    "        machines.append(ClawMachine(\n",
    "            a = tuple([int(coord) for coord in a.split(\",\")]),\n",
    "            b = tuple([int(coord) for coord in b.split(\",\")]),\n",
    "            prize = tuple([int(coord) for coord in prize.split(\",\")])\n",
    "        ))\n",
    "\n",
    "lowest = sum([machine.find_minimum_cost() for machine in machines])\n",
    "lowest"
   ]
  },
  {
   "cell_type": "code",
   "execution_count": 8,
   "id": "5b8b8106-6b62-44ec-920b-4e423026bf46",
   "metadata": {},
   "outputs": [],
   "source": [
    "with open(\"answer.txt\", \"w\") as file:\n",
    "    file.writelines([str(lowest)])"
   ]
  },
  {
   "cell_type": "code",
   "execution_count": null,
   "id": "a927ac61-6ed2-4f40-bad3-c77528f547a5",
   "metadata": {},
   "outputs": [],
   "source": []
  }
 ],
 "metadata": {
  "kernelspec": {
   "display_name": "advent of python",
   "language": "python",
   "name": "advent"
  },
  "language_info": {
   "codemirror_mode": {
    "name": "ipython",
    "version": 3
   },
   "file_extension": ".py",
   "mimetype": "text/x-python",
   "name": "python",
   "nbconvert_exporter": "python",
   "pygments_lexer": "ipython3",
   "version": "3.11.10"
  }
 },
 "nbformat": 4,
 "nbformat_minor": 5
}
