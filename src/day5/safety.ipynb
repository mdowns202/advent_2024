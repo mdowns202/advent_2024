{
 "cells": [
  {
   "cell_type": "markdown",
   "id": "706dfa7c-3018-426f-9a83-de7822cc91af",
   "metadata": {},
   "source": [
    "# Advent of Code 2024 - Day 5, Part 1 (Print Queue)"
   ]
  },
  {
   "cell_type": "code",
   "execution_count": 3,
   "id": "19c05a78-61b2-439c-b0de-42d7452e5921",
   "metadata": {},
   "outputs": [],
   "source": [
    "import csv\n",
    "import numpy as np"
   ]
  },
  {
   "cell_type": "markdown",
   "id": "31ad3cea-b48a-47bc-a567-2f654b4d667f",
   "metadata": {},
   "source": [
    "## Get Rules & Updates"
   ]
  },
  {
   "cell_type": "code",
   "execution_count": 4,
   "id": "0591cd47-0238-4d51-ab8b-2f159ee08717",
   "metadata": {
    "scrolled": true
   },
   "outputs": [
    {
     "name": "stdout",
     "output_type": "stream",
     "text": [
      "[(73, 89), (78, 59), (78, 71), (32, 66), (32, 12), (32, 58), (13, 29), (13, 46), (13, 66), (13, 61), (66, 25), (66, 11), (66, 37), (66, 71), (66, 34), (67, 29), (67, 58), (67, 32), (67, 24), (67, 85), (67, 75), (29, 87), (29, 25), (29, 16), (29, 35)] \n",
      "\n",
      "\n",
      "[[18, 46, 96, 13, 27, 49, 35, 28, 75, 12, 25, 81, 24, 16, 39, 34, 67], [75, 58, 64, 12, 65, 48, 42, 45, 61, 29, 78, 73, 66, 98, 55, 83, 87, 51, 53, 11, 59, 33, 94], [27, 18, 64, 12, 65, 61, 73, 98, 19, 87, 53], [98, 71, 47, 28, 33, 37, 25, 34, 87, 66, 11, 53, 52, 79, 83, 19, 51, 16, 59], [98, 19, 83, 51, 53, 89, 52, 37, 67]]\n"
     ]
    }
   ],
   "source": [
    "Rule = tuple\n",
    "rules = []\n",
    "updates = []\n",
    "\n",
    "with open('data/safety.txt') as file:\n",
    "    reader = csv.reader(file)\n",
    "    rules.extend([Rule(tuple(map(int, \"\".join(row).split(\"|\")))) for row in reader if len(row) > 0 and \"|\" in row[0]])\n",
    "    file.seek(0)\n",
    "    updates.extend([list(map(int, row)) for row in reader if len(row) > 1])\n",
    "\n",
    "print(rules[:25], \"\\n\" * 2)\n",
    "print(updates[:5])"
   ]
  },
  {
   "cell_type": "markdown",
   "id": "fcfbc313-4249-47ef-80a4-4b681473c90f",
   "metadata": {},
   "source": [
    "## Loop Through Updates / Check Rules"
   ]
  },
  {
   "cell_type": "code",
   "execution_count": 5,
   "id": "439564de-4c1a-4389-82ce-147328b4854e",
   "metadata": {},
   "outputs": [
    {
     "name": "stdout",
     "output_type": "stream",
     "text": [
      "Safe / Total ==> 105 / 194\n"
     ]
    },
    {
     "data": {
      "text/plain": [
       "5452"
      ]
     },
     "execution_count": 5,
     "metadata": {},
     "output_type": "execute_result"
    }
   ],
   "source": [
    "safe_updates = []\n",
    "median_sum = 0\n",
    "\n",
    "for update in updates:\n",
    "    broken = False\n",
    "    for rule in rules:\n",
    "        if not broken and all([rule[0] in update, rule[1] in update]):\n",
    "            update = np.array(update)\n",
    "            r0_idxs, r1_idxs = np.where(update == int(rule[0]))[0], np.where(update == int(rule[1]))[0]\n",
    "            for k, j in zip(r0_idxs, r1_idxs):\n",
    "                if k > j:\n",
    "                    broken = True\n",
    "                    break\n",
    "    if not broken:\n",
    "        safe_updates.append(update)\n",
    "        median_sum += update[len(update) // 2]\n",
    "        \n",
    "print(f\"Safe / Total ==> {len(safe_updates)} / {len(updates)}\")\n",
    "int(median_sum)\n"
   ]
  }
 ],
 "metadata": {
  "kernelspec": {
   "display_name": "advent of python",
   "language": "python",
   "name": "advent"
  },
  "language_info": {
   "codemirror_mode": {
    "name": "ipython",
    "version": 3
   },
   "file_extension": ".py",
   "mimetype": "text/x-python",
   "name": "python",
   "nbconvert_exporter": "python",
   "pygments_lexer": "ipython3",
   "version": "3.11.10"
  }
 },
 "nbformat": 4,
 "nbformat_minor": 5
}
